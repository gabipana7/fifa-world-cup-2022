{
 "cells": [
  {
   "cell_type": "code",
   "execution_count": 2,
   "metadata": {},
   "outputs": [],
   "source": [
    "import pandas as pd\n",
    "import requests\n",
    "from bs4 import BeautifulSoup"
   ]
  },
  {
   "cell_type": "code",
   "execution_count": null,
   "metadata": {},
   "outputs": [],
   "source": []
  },
  {
   "cell_type": "markdown",
   "metadata": {},
   "source": [
    "## Getting FIFA Countries Codes, wiki scrapper"
   ]
  },
  {
   "cell_type": "code",
   "execution_count": 3,
   "metadata": {},
   "outputs": [
    {
     "name": "stdout",
     "output_type": "stream",
     "text": [
      "200\n"
     ]
    }
   ],
   "source": [
    "# get the response in the form of html\n",
    "wikiurl=\"https://en.wikipedia.org/wiki/List_of_FIFA_country_codes\"\n",
    "table_class=\"wikitable sortable jquery-tablesorter\"\n",
    "response=requests.get(wikiurl)\n",
    "print(response.status_code)\n"
   ]
  },
  {
   "cell_type": "code",
   "execution_count": 4,
   "metadata": {},
   "outputs": [],
   "source": [
    "# parse data from the html into a beautifulsoup object\n",
    "soup = BeautifulSoup(response.text, 'html.parser')\n",
    "# fifa_codes=soup.find('table',{'class':\"wikitable\"})\n",
    "df1 = soup.find_all('table')[0]\n",
    "df2 = soup.find_all('table')[1]\n",
    "df3 = soup.find_all('table')[2]\n",
    "df4 = soup.find_all('table')[3]"
   ]
  },
  {
   "cell_type": "code",
   "execution_count": 5,
   "metadata": {},
   "outputs": [],
   "source": [
    "codes1=pd.read_html(str(df1))\n",
    "# convert list to dataframe\n",
    "codes1=pd.DataFrame(codes1[0])\n",
    "\n",
    "codes2=pd.read_html(str(df2))\n",
    "# convert list to dataframe\n",
    "codes2=pd.DataFrame(codes2[0])\n",
    "\n",
    "codes3=pd.read_html(str(df3))\n",
    "# convert list to dataframe\n",
    "codes3=pd.DataFrame(codes3[0])\n",
    "\n",
    "codes4=pd.read_html(str(df4))\n",
    "# convert list to dataframe\n",
    "codes4=pd.DataFrame(codes4[0])\n",
    "# print(codes1.head())"
   ]
  },
  {
   "cell_type": "code",
   "execution_count": 6,
   "metadata": {},
   "outputs": [
    {
     "data": {
      "text/html": [
       "<div>\n",
       "<style scoped>\n",
       "    .dataframe tbody tr th:only-of-type {\n",
       "        vertical-align: middle;\n",
       "    }\n",
       "\n",
       "    .dataframe tbody tr th {\n",
       "        vertical-align: top;\n",
       "    }\n",
       "\n",
       "    .dataframe thead th {\n",
       "        text-align: right;\n",
       "    }\n",
       "</style>\n",
       "<table border=\"1\" class=\"dataframe\">\n",
       "  <thead>\n",
       "    <tr style=\"text-align: right;\">\n",
       "      <th></th>\n",
       "      <th>team</th>\n",
       "      <th>code</th>\n",
       "      <th>country</th>\n",
       "    </tr>\n",
       "  </thead>\n",
       "  <tbody>\n",
       "    <tr>\n",
       "      <th>0</th>\n",
       "      <td>Afghanistan</td>\n",
       "      <td>AFG</td>\n",
       "      <td>Afghanistan</td>\n",
       "    </tr>\n",
       "    <tr>\n",
       "      <th>1</th>\n",
       "      <td>Albania</td>\n",
       "      <td>ALB</td>\n",
       "      <td>Albania</td>\n",
       "    </tr>\n",
       "    <tr>\n",
       "      <th>2</th>\n",
       "      <td>Algeria</td>\n",
       "      <td>ALG</td>\n",
       "      <td>Algeria</td>\n",
       "    </tr>\n",
       "    <tr>\n",
       "      <th>3</th>\n",
       "      <td>American Samoa</td>\n",
       "      <td>ASA</td>\n",
       "      <td>American Samoa</td>\n",
       "    </tr>\n",
       "    <tr>\n",
       "      <th>4</th>\n",
       "      <td>Andorra</td>\n",
       "      <td>AND</td>\n",
       "      <td>Andorra</td>\n",
       "    </tr>\n",
       "    <tr>\n",
       "      <th>...</th>\n",
       "      <td>...</td>\n",
       "      <td>...</td>\n",
       "      <td>...</td>\n",
       "    </tr>\n",
       "    <tr>\n",
       "      <th>47</th>\n",
       "      <td>Vietnam</td>\n",
       "      <td>VIE</td>\n",
       "      <td>Vietnam</td>\n",
       "    </tr>\n",
       "    <tr>\n",
       "      <th>48</th>\n",
       "      <td>Wales</td>\n",
       "      <td>WAL</td>\n",
       "      <td>Wales</td>\n",
       "    </tr>\n",
       "    <tr>\n",
       "      <th>49</th>\n",
       "      <td>Yemen</td>\n",
       "      <td>YEM</td>\n",
       "      <td>Yemen</td>\n",
       "    </tr>\n",
       "    <tr>\n",
       "      <th>50</th>\n",
       "      <td>Zambia</td>\n",
       "      <td>ZAM</td>\n",
       "      <td>Zambia</td>\n",
       "    </tr>\n",
       "    <tr>\n",
       "      <th>51</th>\n",
       "      <td>Zimbabwe</td>\n",
       "      <td>ZIM</td>\n",
       "      <td>Zimbabwe</td>\n",
       "    </tr>\n",
       "  </tbody>\n",
       "</table>\n",
       "<p>211 rows × 3 columns</p>\n",
       "</div>"
      ],
      "text/plain": [
       "              team code         country\n",
       "0      Afghanistan  AFG     Afghanistan\n",
       "1          Albania  ALB         Albania\n",
       "2          Algeria  ALG         Algeria\n",
       "3   American Samoa  ASA  American Samoa\n",
       "4          Andorra  AND         Andorra\n",
       "..             ...  ...             ...\n",
       "47         Vietnam  VIE         Vietnam\n",
       "48           Wales  WAL           Wales\n",
       "49           Yemen  YEM           Yemen\n",
       "50          Zambia  ZAM          Zambia\n",
       "51        Zimbabwe  ZIM        Zimbabwe\n",
       "\n",
       "[211 rows x 3 columns]"
      ]
     },
     "execution_count": 6,
     "metadata": {},
     "output_type": "execute_result"
    }
   ],
   "source": [
    "frames = [codes1, codes2, codes3, codes4]\n",
    "country_codes = pd.concat(frames)\n",
    "country_codes.rename(columns={'Country': 'team', 'Code': 'code'}, inplace=True)\n",
    "country_codes['country'] = country_codes.loc[:, 'team']\n",
    "country_codes"
   ]
  },
  {
   "cell_type": "code",
   "execution_count": null,
   "metadata": {},
   "outputs": [],
   "source": []
  },
  {
   "cell_type": "markdown",
   "metadata": {},
   "source": [
    "## Getting Sovereign States"
   ]
  },
  {
   "cell_type": "code",
   "execution_count": 7,
   "metadata": {},
   "outputs": [
    {
     "name": "stdout",
     "output_type": "stream",
     "text": [
      "200\n"
     ]
    }
   ],
   "source": [
    "# get the response in the form of html\n",
    "wikiurl2=\"https://en.wikipedia.org/wiki/List_of_sovereign_states_by_date_of_formation\"\n",
    "table_class2=\"wikitable sortable tpl-blanktable jquery-tablesorter\"\n",
    "response2=requests.get(wikiurl2)\n",
    "print(response2.status_code)"
   ]
  },
  {
   "cell_type": "code",
   "execution_count": 8,
   "metadata": {},
   "outputs": [],
   "source": [
    "# parse data from the html into a beautifulsoup object\n",
    "soup_states = BeautifulSoup(response2.text, 'html.parser')"
   ]
  },
  {
   "cell_type": "code",
   "execution_count": 9,
   "metadata": {},
   "outputs": [
    {
     "data": {
      "text/plain": [
       "9"
      ]
     },
     "execution_count": 9,
     "metadata": {},
     "output_type": "execute_result"
    }
   ],
   "source": [
    "\n",
    "len(soup_states.find_all('table'))"
   ]
  },
  {
   "cell_type": "code",
   "execution_count": 10,
   "metadata": {},
   "outputs": [],
   "source": [
    "# It is the last table on page\n",
    "states = soup_states.find_all('table')[7]"
   ]
  },
  {
   "cell_type": "code",
   "execution_count": 11,
   "metadata": {},
   "outputs": [],
   "source": [
    "sovereign_states=pd.read_html(str(states))\n",
    "# convert list to dataframe\n",
    "sovereign_states=pd.DataFrame(sovereign_states[0])"
   ]
  },
  {
   "cell_type": "code",
   "execution_count": 12,
   "metadata": {},
   "outputs": [
    {
     "data": {
      "text/html": [
       "<div>\n",
       "<style scoped>\n",
       "    .dataframe tbody tr th:only-of-type {\n",
       "        vertical-align: middle;\n",
       "    }\n",
       "\n",
       "    .dataframe tbody tr th {\n",
       "        vertical-align: top;\n",
       "    }\n",
       "\n",
       "    .dataframe thead th {\n",
       "        text-align: right;\n",
       "    }\n",
       "</style>\n",
       "<table border=\"1\" class=\"dataframe\">\n",
       "  <thead>\n",
       "    <tr style=\"text-align: right;\">\n",
       "      <th></th>\n",
       "      <th>Country</th>\n",
       "      <th>Continent</th>\n",
       "      <th>First acquisition of sovereignty</th>\n",
       "      <th>Date of last subordination</th>\n",
       "      <th>Previous governing power</th>\n",
       "      <th>Historical Notes</th>\n",
       "    </tr>\n",
       "  </thead>\n",
       "  <tbody>\n",
       "    <tr>\n",
       "      <th>0</th>\n",
       "      <td>Afghanistan</td>\n",
       "      <td>Asia</td>\n",
       "      <td>1709</td>\n",
       "      <td>1796</td>\n",
       "      <td>Afsharid Empire</td>\n",
       "      <td>2021–present: Islamic Emirate of Afghanistan 2...</td>\n",
       "    </tr>\n",
       "    <tr>\n",
       "      <th>1</th>\n",
       "      <td>Albania</td>\n",
       "      <td>Europe</td>\n",
       "      <td>28 Nov 1912</td>\n",
       "      <td>Nov 1944[44]</td>\n",
       "      <td>Germany</td>\n",
       "      <td>1992–present: Republic of Albania 1946–92: Peo...</td>\n",
       "    </tr>\n",
       "    <tr>\n",
       "      <th>2</th>\n",
       "      <td>Algeria</td>\n",
       "      <td>Africa</td>\n",
       "      <td>202 BC</td>\n",
       "      <td>3 July 1962[46]</td>\n",
       "      <td>France</td>\n",
       "      <td>1962–present: People's Democratic Republic of ...</td>\n",
       "    </tr>\n",
       "    <tr>\n",
       "      <th>3</th>\n",
       "      <td>Andorra</td>\n",
       "      <td>Europe</td>\n",
       "      <td>7 Sep 1278[48][49]</td>\n",
       "      <td>Nov 1944[50]</td>\n",
       "      <td>France</td>\n",
       "      <td>1278–present: Principality of Andorra (via Par...</td>\n",
       "    </tr>\n",
       "    <tr>\n",
       "      <th>4</th>\n",
       "      <td>Angola</td>\n",
       "      <td>Africa</td>\n",
       "      <td>11 Nov 1975[51]</td>\n",
       "      <td>11 Nov 1975</td>\n",
       "      <td>Portugal</td>\n",
       "      <td>1992–present: Republic of Angola 1975–1992: Pe...</td>\n",
       "    </tr>\n",
       "  </tbody>\n",
       "</table>\n",
       "</div>"
      ],
      "text/plain": [
       "       Country Continent First acquisition of sovereignty  \\\n",
       "0  Afghanistan      Asia                             1709   \n",
       "1      Albania    Europe                      28 Nov 1912   \n",
       "2      Algeria    Africa                           202 BC   \n",
       "3      Andorra    Europe               7 Sep 1278[48][49]   \n",
       "4       Angola    Africa                  11 Nov 1975[51]   \n",
       "\n",
       "  Date of last subordination Previous governing power  \\\n",
       "0                       1796          Afsharid Empire   \n",
       "1               Nov 1944[44]                  Germany   \n",
       "2            3 July 1962[46]                   France   \n",
       "3               Nov 1944[50]                   France   \n",
       "4                11 Nov 1975                 Portugal   \n",
       "\n",
       "                                    Historical Notes  \n",
       "0  2021–present: Islamic Emirate of Afghanistan 2...  \n",
       "1  1992–present: Republic of Albania 1946–92: Peo...  \n",
       "2  1962–present: People's Democratic Republic of ...  \n",
       "3  1278–present: Principality of Andorra (via Par...  \n",
       "4  1992–present: Republic of Angola 1975–1992: Pe...  "
      ]
     },
     "execution_count": 12,
     "metadata": {},
     "output_type": "execute_result"
    }
   ],
   "source": [
    "sovereign_states.head()"
   ]
  },
  {
   "cell_type": "code",
   "execution_count": 13,
   "metadata": {},
   "outputs": [
    {
     "data": {
      "text/html": [
       "<div>\n",
       "<style scoped>\n",
       "    .dataframe tbody tr th:only-of-type {\n",
       "        vertical-align: middle;\n",
       "    }\n",
       "\n",
       "    .dataframe tbody tr th {\n",
       "        vertical-align: top;\n",
       "    }\n",
       "\n",
       "    .dataframe thead th {\n",
       "        text-align: right;\n",
       "    }\n",
       "</style>\n",
       "<table border=\"1\" class=\"dataframe\">\n",
       "  <thead>\n",
       "    <tr style=\"text-align: right;\">\n",
       "      <th></th>\n",
       "      <th>country</th>\n",
       "      <th>continent</th>\n",
       "    </tr>\n",
       "  </thead>\n",
       "  <tbody>\n",
       "    <tr>\n",
       "      <th>0</th>\n",
       "      <td>Afghanistan</td>\n",
       "      <td>Asia</td>\n",
       "    </tr>\n",
       "    <tr>\n",
       "      <th>1</th>\n",
       "      <td>Albania</td>\n",
       "      <td>Europe</td>\n",
       "    </tr>\n",
       "    <tr>\n",
       "      <th>2</th>\n",
       "      <td>Algeria</td>\n",
       "      <td>Africa</td>\n",
       "    </tr>\n",
       "    <tr>\n",
       "      <th>3</th>\n",
       "      <td>Andorra</td>\n",
       "      <td>Europe</td>\n",
       "    </tr>\n",
       "    <tr>\n",
       "      <th>4</th>\n",
       "      <td>Angola</td>\n",
       "      <td>Africa</td>\n",
       "    </tr>\n",
       "    <tr>\n",
       "      <th>...</th>\n",
       "      <td>...</td>\n",
       "      <td>...</td>\n",
       "    </tr>\n",
       "    <tr>\n",
       "      <th>190</th>\n",
       "      <td>Venezuela</td>\n",
       "      <td>The Americas</td>\n",
       "    </tr>\n",
       "    <tr>\n",
       "      <th>191</th>\n",
       "      <td>Vietnam</td>\n",
       "      <td>Asia</td>\n",
       "    </tr>\n",
       "    <tr>\n",
       "      <th>192</th>\n",
       "      <td>Yemen</td>\n",
       "      <td>Asia</td>\n",
       "    </tr>\n",
       "    <tr>\n",
       "      <th>193</th>\n",
       "      <td>Zambia</td>\n",
       "      <td>Africa</td>\n",
       "    </tr>\n",
       "    <tr>\n",
       "      <th>194</th>\n",
       "      <td>Zimbabwe</td>\n",
       "      <td>Africa</td>\n",
       "    </tr>\n",
       "  </tbody>\n",
       "</table>\n",
       "<p>195 rows × 2 columns</p>\n",
       "</div>"
      ],
      "text/plain": [
       "         country     continent\n",
       "0    Afghanistan          Asia\n",
       "1        Albania        Europe\n",
       "2        Algeria        Africa\n",
       "3        Andorra        Europe\n",
       "4         Angola        Africa\n",
       "..           ...           ...\n",
       "190    Venezuela  The Americas\n",
       "191      Vietnam          Asia\n",
       "192        Yemen          Asia\n",
       "193       Zambia        Africa\n",
       "194     Zimbabwe        Africa\n",
       "\n",
       "[195 rows x 2 columns]"
      ]
     },
     "execution_count": 13,
     "metadata": {},
     "output_type": "execute_result"
    }
   ],
   "source": [
    "sovereign_states = sovereign_states[['Country', 'Continent']]\n",
    "sovereign_states.columns = sovereign_states.columns.str.lower()\n",
    "sovereign_states"
   ]
  },
  {
   "cell_type": "code",
   "execution_count": null,
   "metadata": {},
   "outputs": [],
   "source": []
  },
  {
   "cell_type": "markdown",
   "metadata": {},
   "source": [
    "## Connecting Sovereing States to FIFA teams and codes"
   ]
  },
  {
   "cell_type": "code",
   "execution_count": null,
   "metadata": {},
   "outputs": [],
   "source": []
  },
  {
   "cell_type": "code",
   "execution_count": 14,
   "metadata": {},
   "outputs": [
    {
     "name": "stdout",
     "output_type": "stream",
     "text": [
      "['American Samoa', 'Hong Kong', 'Faroe Islands', 'Bermuda', 'Turks and Caicos Islands', 'Curaçao', 'Cook Islands', 'Montserrat', 'DR Congo', 'Aruba', 'Republic of Ireland', 'Anguilla', 'Tahiti', 'Congo', 'British Virgin Islands', 'Cayman Islands', 'Northern Ireland', 'Czech Republic', 'Guam', 'Wales', 'Macau', 'Scotland', 'Puerto Rico', 'Gibraltar', 'England', 'New Caledonia', 'Kosovo', 'Chinese Taipei', 'U.S. Virgin Islands']\n"
     ]
    }
   ],
   "source": [
    "# Teams in country_codes (fifa teams), but not in sovereign states countries (because they are not really countries)\n",
    "print(list(set(country_codes['country'].unique()) - set(sovereign_states['country'].unique())))"
   ]
  },
  {
   "cell_type": "code",
   "execution_count": 15,
   "metadata": {},
   "outputs": [
    {
     "name": "stdout",
     "output_type": "stream",
     "text": [
      "['Tuvalu', 'Ireland', 'Micronesia, Federated States of', 'Monaco', 'Congo, Democratic Republic of the', 'Czechia', 'Marshall Islands', 'United Kingdom', 'Nauru', 'Vatican City', 'Congo, Republic of the', 'Palau', 'Kiribati']\n"
     ]
    }
   ],
   "source": [
    "# Countries that are in sovereign states, but not in fifa teams \n",
    "print(list(set(sovereign_states['country'].unique()) - set(country_codes['country'].unique())))"
   ]
  },
  {
   "cell_type": "code",
   "execution_count": 16,
   "metadata": {},
   "outputs": [],
   "source": [
    "# Change a few names in country_codes in order to match teams and their country\n",
    "team_to_change = ['Chinese Taipei', 'Congo', 'England', 'Wales', 'Northern Ireland', 'Scotland' ]\n",
    "changes = ['Taiwan', 'Republic of the Congo', 'United Kingdom', 'United Kingdom', 'United Kingdom', 'United Kingdom']\n"
   ]
  },
  {
   "cell_type": "code",
   "execution_count": 17,
   "metadata": {},
   "outputs": [],
   "source": [
    "country_codes['country'] = country_codes['country'].replace(team_to_change,changes)"
   ]
  },
  {
   "cell_type": "code",
   "execution_count": 18,
   "metadata": {},
   "outputs": [
    {
     "data": {
      "text/html": [
       "<div>\n",
       "<style scoped>\n",
       "    .dataframe tbody tr th:only-of-type {\n",
       "        vertical-align: middle;\n",
       "    }\n",
       "\n",
       "    .dataframe tbody tr th {\n",
       "        vertical-align: top;\n",
       "    }\n",
       "\n",
       "    .dataframe thead th {\n",
       "        text-align: right;\n",
       "    }\n",
       "</style>\n",
       "<table border=\"1\" class=\"dataframe\">\n",
       "  <thead>\n",
       "    <tr style=\"text-align: right;\">\n",
       "      <th></th>\n",
       "      <th>team</th>\n",
       "      <th>code</th>\n",
       "      <th>country</th>\n",
       "    </tr>\n",
       "  </thead>\n",
       "  <tbody>\n",
       "    <tr>\n",
       "      <th>0</th>\n",
       "      <td>Afghanistan</td>\n",
       "      <td>AFG</td>\n",
       "      <td>Afghanistan</td>\n",
       "    </tr>\n",
       "    <tr>\n",
       "      <th>1</th>\n",
       "      <td>Albania</td>\n",
       "      <td>ALB</td>\n",
       "      <td>Albania</td>\n",
       "    </tr>\n",
       "    <tr>\n",
       "      <th>2</th>\n",
       "      <td>Algeria</td>\n",
       "      <td>ALG</td>\n",
       "      <td>Algeria</td>\n",
       "    </tr>\n",
       "    <tr>\n",
       "      <th>3</th>\n",
       "      <td>American Samoa</td>\n",
       "      <td>ASA</td>\n",
       "      <td>American Samoa</td>\n",
       "    </tr>\n",
       "    <tr>\n",
       "      <th>4</th>\n",
       "      <td>Andorra</td>\n",
       "      <td>AND</td>\n",
       "      <td>Andorra</td>\n",
       "    </tr>\n",
       "    <tr>\n",
       "      <th>...</th>\n",
       "      <td>...</td>\n",
       "      <td>...</td>\n",
       "      <td>...</td>\n",
       "    </tr>\n",
       "    <tr>\n",
       "      <th>47</th>\n",
       "      <td>Vietnam</td>\n",
       "      <td>VIE</td>\n",
       "      <td>Vietnam</td>\n",
       "    </tr>\n",
       "    <tr>\n",
       "      <th>48</th>\n",
       "      <td>Wales</td>\n",
       "      <td>WAL</td>\n",
       "      <td>United Kingdom</td>\n",
       "    </tr>\n",
       "    <tr>\n",
       "      <th>49</th>\n",
       "      <td>Yemen</td>\n",
       "      <td>YEM</td>\n",
       "      <td>Yemen</td>\n",
       "    </tr>\n",
       "    <tr>\n",
       "      <th>50</th>\n",
       "      <td>Zambia</td>\n",
       "      <td>ZAM</td>\n",
       "      <td>Zambia</td>\n",
       "    </tr>\n",
       "    <tr>\n",
       "      <th>51</th>\n",
       "      <td>Zimbabwe</td>\n",
       "      <td>ZIM</td>\n",
       "      <td>Zimbabwe</td>\n",
       "    </tr>\n",
       "  </tbody>\n",
       "</table>\n",
       "<p>211 rows × 3 columns</p>\n",
       "</div>"
      ],
      "text/plain": [
       "              team code         country\n",
       "0      Afghanistan  AFG     Afghanistan\n",
       "1          Albania  ALB         Albania\n",
       "2          Algeria  ALG         Algeria\n",
       "3   American Samoa  ASA  American Samoa\n",
       "4          Andorra  AND         Andorra\n",
       "..             ...  ...             ...\n",
       "47         Vietnam  VIE         Vietnam\n",
       "48           Wales  WAL  United Kingdom\n",
       "49           Yemen  YEM           Yemen\n",
       "50          Zambia  ZAM          Zambia\n",
       "51        Zimbabwe  ZIM        Zimbabwe\n",
       "\n",
       "[211 rows x 3 columns]"
      ]
     },
     "execution_count": 18,
     "metadata": {},
     "output_type": "execute_result"
    }
   ],
   "source": [
    "country_codes"
   ]
  },
  {
   "cell_type": "code",
   "execution_count": null,
   "metadata": {},
   "outputs": [],
   "source": []
  },
  {
   "cell_type": "code",
   "execution_count": 19,
   "metadata": {},
   "outputs": [],
   "source": [
    "country_codes.to_csv('./data/country_codes.csv', index=False)"
   ]
  }
 ],
 "metadata": {
  "kernelspec": {
   "display_name": "world-cup",
   "language": "python",
   "name": "world-cup"
  },
  "language_info": {
   "codemirror_mode": {
    "name": "ipython",
    "version": 3
   },
   "file_extension": ".py",
   "mimetype": "text/x-python",
   "name": "python",
   "nbconvert_exporter": "python",
   "pygments_lexer": "ipython3",
   "version": "3.10.7 (tags/v3.10.7:6cc6b13, Sep  5 2022, 14:08:36) [MSC v.1933 64 bit (AMD64)]"
  },
  "orig_nbformat": 4,
  "vscode": {
   "interpreter": {
    "hash": "64716dcc7f862df0293299df7c5f58d1d6e8be6f933b2ddf3dad2c8d17372c1c"
   }
  }
 },
 "nbformat": 4,
 "nbformat_minor": 2
}
