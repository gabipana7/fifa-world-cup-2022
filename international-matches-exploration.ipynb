{
 "cells": [
  {
   "cell_type": "code",
   "execution_count": 13,
   "metadata": {},
   "outputs": [],
   "source": [
    "import numpy as np\n",
    "import pandas as pd\n",
    "import matplotlib.pyplot as plt\n",
    "import seaborn as sns\n",
    "import pycountry"
   ]
  },
  {
   "cell_type": "code",
   "execution_count": 2,
   "metadata": {},
   "outputs": [
    {
     "name": "stdout",
     "output_type": "stream",
     "text": [
      "<class 'pandas.core.frame.DataFrame'>\n",
      "RangeIndex: 23921 entries, 0 to 23920\n",
      "Data columns (total 18 columns):\n",
      " #   Column                       Non-Null Count  Dtype \n",
      "---  ------                       --------------  ----- \n",
      " 0   match_id                     23921 non-null  int64 \n",
      " 1   date                         23921 non-null  object\n",
      " 2   home_team                    23921 non-null  object\n",
      " 3   away_team                    23921 non-null  object\n",
      " 4   home_team_continent          23921 non-null  object\n",
      " 5   away_team_continent          23921 non-null  object\n",
      " 6   home_team_fifa_rank          23921 non-null  int64 \n",
      " 7   away_team_fifa_rank          23921 non-null  int64 \n",
      " 8   home_team_total_fifa_points  23921 non-null  int64 \n",
      " 9   away_team_total_fifa_points  23921 non-null  int64 \n",
      " 10  home_team_score              23921 non-null  int64 \n",
      " 11  away_team_score              23921 non-null  int64 \n",
      " 12  tournament                   23921 non-null  object\n",
      " 13  city                         23921 non-null  object\n",
      " 14  country                      23921 non-null  object\n",
      " 15  neutral_location             23921 non-null  bool  \n",
      " 16  shoot_out                    23921 non-null  bool  \n",
      " 17  home_team_result             23921 non-null  object\n",
      "dtypes: bool(2), int64(7), object(9)\n",
      "memory usage: 3.0+ MB\n"
     ]
    },
    {
     "data": {
      "text/html": [
       "<div>\n",
       "<style scoped>\n",
       "    .dataframe tbody tr th:only-of-type {\n",
       "        vertical-align: middle;\n",
       "    }\n",
       "\n",
       "    .dataframe tbody tr th {\n",
       "        vertical-align: top;\n",
       "    }\n",
       "\n",
       "    .dataframe thead th {\n",
       "        text-align: right;\n",
       "    }\n",
       "</style>\n",
       "<table border=\"1\" class=\"dataframe\">\n",
       "  <thead>\n",
       "    <tr style=\"text-align: right;\">\n",
       "      <th></th>\n",
       "      <th>match_id</th>\n",
       "      <th>date</th>\n",
       "      <th>home_team</th>\n",
       "      <th>away_team</th>\n",
       "      <th>home_team_continent</th>\n",
       "      <th>away_team_continent</th>\n",
       "      <th>home_team_fifa_rank</th>\n",
       "      <th>away_team_fifa_rank</th>\n",
       "      <th>home_team_total_fifa_points</th>\n",
       "      <th>away_team_total_fifa_points</th>\n",
       "      <th>home_team_score</th>\n",
       "      <th>away_team_score</th>\n",
       "      <th>tournament</th>\n",
       "      <th>city</th>\n",
       "      <th>country</th>\n",
       "      <th>neutral_location</th>\n",
       "      <th>shoot_out</th>\n",
       "      <th>home_team_result</th>\n",
       "    </tr>\n",
       "  </thead>\n",
       "  <tbody>\n",
       "    <tr>\n",
       "      <th>0</th>\n",
       "      <td>1</td>\n",
       "      <td>1993-08-08</td>\n",
       "      <td>Bolivia</td>\n",
       "      <td>Uruguay</td>\n",
       "      <td>South America</td>\n",
       "      <td>South America</td>\n",
       "      <td>59</td>\n",
       "      <td>22</td>\n",
       "      <td>0</td>\n",
       "      <td>0</td>\n",
       "      <td>3</td>\n",
       "      <td>1</td>\n",
       "      <td>FIFA World Cup qualification</td>\n",
       "      <td>La Paz</td>\n",
       "      <td>Bolivia</td>\n",
       "      <td>False</td>\n",
       "      <td>False</td>\n",
       "      <td>Win</td>\n",
       "    </tr>\n",
       "    <tr>\n",
       "      <th>1</th>\n",
       "      <td>2</td>\n",
       "      <td>1993-08-08</td>\n",
       "      <td>Brazil</td>\n",
       "      <td>Mexico</td>\n",
       "      <td>South America</td>\n",
       "      <td>North America</td>\n",
       "      <td>8</td>\n",
       "      <td>14</td>\n",
       "      <td>0</td>\n",
       "      <td>0</td>\n",
       "      <td>1</td>\n",
       "      <td>1</td>\n",
       "      <td>Friendly</td>\n",
       "      <td>Maceió</td>\n",
       "      <td>Brazil</td>\n",
       "      <td>False</td>\n",
       "      <td>False</td>\n",
       "      <td>Draw</td>\n",
       "    </tr>\n",
       "    <tr>\n",
       "      <th>2</th>\n",
       "      <td>3</td>\n",
       "      <td>1993-08-08</td>\n",
       "      <td>Ecuador</td>\n",
       "      <td>Venezuela</td>\n",
       "      <td>South America</td>\n",
       "      <td>South America</td>\n",
       "      <td>35</td>\n",
       "      <td>94</td>\n",
       "      <td>0</td>\n",
       "      <td>0</td>\n",
       "      <td>5</td>\n",
       "      <td>0</td>\n",
       "      <td>FIFA World Cup qualification</td>\n",
       "      <td>Quito</td>\n",
       "      <td>Ecuador</td>\n",
       "      <td>False</td>\n",
       "      <td>False</td>\n",
       "      <td>Win</td>\n",
       "    </tr>\n",
       "    <tr>\n",
       "      <th>3</th>\n",
       "      <td>4</td>\n",
       "      <td>1993-08-08</td>\n",
       "      <td>Guinea</td>\n",
       "      <td>Sierra Leone</td>\n",
       "      <td>Africa</td>\n",
       "      <td>Africa</td>\n",
       "      <td>65</td>\n",
       "      <td>86</td>\n",
       "      <td>0</td>\n",
       "      <td>0</td>\n",
       "      <td>1</td>\n",
       "      <td>0</td>\n",
       "      <td>Friendly</td>\n",
       "      <td>Conakry</td>\n",
       "      <td>Guinea</td>\n",
       "      <td>False</td>\n",
       "      <td>False</td>\n",
       "      <td>Win</td>\n",
       "    </tr>\n",
       "    <tr>\n",
       "      <th>4</th>\n",
       "      <td>5</td>\n",
       "      <td>1993-08-08</td>\n",
       "      <td>Paraguay</td>\n",
       "      <td>Argentina</td>\n",
       "      <td>South America</td>\n",
       "      <td>South America</td>\n",
       "      <td>67</td>\n",
       "      <td>5</td>\n",
       "      <td>0</td>\n",
       "      <td>0</td>\n",
       "      <td>1</td>\n",
       "      <td>3</td>\n",
       "      <td>FIFA World Cup qualification</td>\n",
       "      <td>Asunción</td>\n",
       "      <td>Paraguay</td>\n",
       "      <td>False</td>\n",
       "      <td>False</td>\n",
       "      <td>Lose</td>\n",
       "    </tr>\n",
       "  </tbody>\n",
       "</table>\n",
       "</div>"
      ],
      "text/plain": [
       "   match_id        date home_team     away_team home_team_continent  \\\n",
       "0         1  1993-08-08   Bolivia       Uruguay       South America   \n",
       "1         2  1993-08-08    Brazil        Mexico       South America   \n",
       "2         3  1993-08-08   Ecuador     Venezuela       South America   \n",
       "3         4  1993-08-08    Guinea  Sierra Leone              Africa   \n",
       "4         5  1993-08-08  Paraguay     Argentina       South America   \n",
       "\n",
       "  away_team_continent  home_team_fifa_rank  away_team_fifa_rank  \\\n",
       "0       South America                   59                   22   \n",
       "1       North America                    8                   14   \n",
       "2       South America                   35                   94   \n",
       "3              Africa                   65                   86   \n",
       "4       South America                   67                    5   \n",
       "\n",
       "   home_team_total_fifa_points  away_team_total_fifa_points  home_team_score  \\\n",
       "0                            0                            0                3   \n",
       "1                            0                            0                1   \n",
       "2                            0                            0                5   \n",
       "3                            0                            0                1   \n",
       "4                            0                            0                1   \n",
       "\n",
       "   away_team_score                    tournament      city   country  \\\n",
       "0                1  FIFA World Cup qualification    La Paz   Bolivia   \n",
       "1                1                      Friendly    Maceió    Brazil   \n",
       "2                0  FIFA World Cup qualification     Quito   Ecuador   \n",
       "3                0                      Friendly   Conakry    Guinea   \n",
       "4                3  FIFA World Cup qualification  Asunción  Paraguay   \n",
       "\n",
       "   neutral_location  shoot_out home_team_result  \n",
       "0             False      False              Win  \n",
       "1             False      False             Draw  \n",
       "2             False      False              Win  \n",
       "3             False      False              Win  \n",
       "4             False      False             Lose  "
      ]
     },
     "execution_count": 2,
     "metadata": {},
     "output_type": "execute_result"
    }
   ],
   "source": [
    "df = pd.read_csv('./data/international_matches_no_team_scores.csv')\n",
    "df.info(verbose=True)\n",
    "df.head()"
   ]
  },
  {
   "cell_type": "code",
   "execution_count": null,
   "metadata": {},
   "outputs": [],
   "source": []
  },
  {
   "cell_type": "markdown",
   "metadata": {},
   "source": [
    "## Bar Plots of Categoricals"
   ]
  },
  {
   "cell_type": "code",
   "execution_count": 3,
   "metadata": {},
   "outputs": [
    {
     "data": {
      "text/plain": [
       "<AxesSubplot: >"
      ]
     },
     "execution_count": 3,
     "metadata": {},
     "output_type": "execute_result"
    },
    {
     "data": {
      "image/png": "[encoded data removed]",
      "text/plain": [
       "<Figure size 640x480 with 1 Axes>"
      ]
     },
     "metadata": {},
     "output_type": "display_data"
    }
   ],
   "source": [
    "# tournaments with most matches (over 100) - top 25\n",
    "df['tournament'].value_counts().head(25).plot(kind='bar')"
   ]
  },
  {
   "cell_type": "code",
   "execution_count": 4,
   "metadata": {},
   "outputs": [
    {
     "data": {
      "text/plain": [
       "<AxesSubplot: >"
      ]
     },
     "execution_count": 4,
     "metadata": {},
     "output_type": "execute_result"
    },
    {
     "data": {
      "image/png": "[encoded data removed]",
      "text/plain": [
       "<Figure size 640x480 with 1 Axes>"
      ]
     },
     "metadata": {},
     "output_type": "display_data"
    }
   ],
   "source": [
    "df['home_team'].value_counts().head(25).plot(kind='bar')"
   ]
  },
  {
   "cell_type": "code",
   "execution_count": 5,
   "metadata": {},
   "outputs": [
    {
     "data": {
      "text/plain": [
       "<AxesSubplot: >"
      ]
     },
     "execution_count": 5,
     "metadata": {},
     "output_type": "execute_result"
    },
    {
     "data": {
      "image/png": "[encoded data removed]",
      "text/plain": [
       "<Figure size 640x480 with 1 Axes>"
      ]
     },
     "metadata": {},
     "output_type": "display_data"
    }
   ],
   "source": [
    "df['away_team'].value_counts().head(25).plot(kind='bar')"
   ]
  },
  {
   "cell_type": "code",
   "execution_count": 6,
   "metadata": {},
   "outputs": [
    {
     "data": {
      "text/plain": [
       "211"
      ]
     },
     "execution_count": 6,
     "metadata": {},
     "output_type": "execute_result"
    }
   ],
   "source": [
    "len(df['home_team'].unique())"
   ]
  },
  {
   "cell_type": "code",
   "execution_count": null,
   "metadata": {},
   "outputs": [],
   "source": []
  },
  {
   "cell_type": "code",
   "execution_count": 27,
   "metadata": {},
   "outputs": [
    {
     "name": "stdout",
     "output_type": "stream",
     "text": [
      "<class 'pandas.core.frame.DataFrame'>\n",
      "RangeIndex: 191 entries, 0 to 190\n",
      "Data columns (total 5 columns):\n",
      " #   Column              Non-Null Count  Dtype  \n",
      "---  ------              --------------  -----  \n",
      " 0   country             191 non-null    object \n",
      " 1   confederation       191 non-null    object \n",
      " 2   population_share    191 non-null    float64\n",
      " 3   tv_audience_share   191 non-null    float64\n",
      " 4   gdp_weighted_share  191 non-null    float64\n",
      "dtypes: float64(3), object(2)\n",
      "memory usage: 7.6+ KB\n"
     ]
    },
    {
     "data": {
      "text/html": [
       "<div>\n",
       "<style scoped>\n",
       "    .dataframe tbody tr th:only-of-type {\n",
       "        vertical-align: middle;\n",
       "    }\n",
       "\n",
       "    .dataframe tbody tr th {\n",
       "        vertical-align: top;\n",
       "    }\n",
       "\n",
       "    .dataframe thead th {\n",
       "        text-align: right;\n",
       "    }\n",
       "</style>\n",
       "<table border=\"1\" class=\"dataframe\">\n",
       "  <thead>\n",
       "    <tr style=\"text-align: right;\">\n",
       "      <th></th>\n",
       "      <th>country</th>\n",
       "      <th>confederation</th>\n",
       "      <th>population_share</th>\n",
       "      <th>tv_audience_share</th>\n",
       "      <th>gdp_weighted_share</th>\n",
       "    </tr>\n",
       "  </thead>\n",
       "  <tbody>\n",
       "    <tr>\n",
       "      <th>0</th>\n",
       "      <td>united states</td>\n",
       "      <td>concacaf</td>\n",
       "      <td>4.5</td>\n",
       "      <td>4.3</td>\n",
       "      <td>11.3</td>\n",
       "    </tr>\n",
       "    <tr>\n",
       "      <th>1</th>\n",
       "      <td>japan</td>\n",
       "      <td>afc</td>\n",
       "      <td>1.9</td>\n",
       "      <td>4.9</td>\n",
       "      <td>9.1</td>\n",
       "    </tr>\n",
       "    <tr>\n",
       "      <th>2</th>\n",
       "      <td>china</td>\n",
       "      <td>afc</td>\n",
       "      <td>19.5</td>\n",
       "      <td>14.8</td>\n",
       "      <td>7.3</td>\n",
       "    </tr>\n",
       "    <tr>\n",
       "      <th>3</th>\n",
       "      <td>germany</td>\n",
       "      <td>uefa</td>\n",
       "      <td>1.2</td>\n",
       "      <td>2.9</td>\n",
       "      <td>6.3</td>\n",
       "    </tr>\n",
       "    <tr>\n",
       "      <th>4</th>\n",
       "      <td>brazil</td>\n",
       "      <td>conmebol</td>\n",
       "      <td>2.8</td>\n",
       "      <td>7.1</td>\n",
       "      <td>5.4</td>\n",
       "    </tr>\n",
       "  </tbody>\n",
       "</table>\n",
       "</div>"
      ],
      "text/plain": [
       "         country confederation  population_share  tv_audience_share  \\\n",
       "0  united states      concacaf               4.5                4.3   \n",
       "1          japan           afc               1.9                4.9   \n",
       "2          china           afc              19.5               14.8   \n",
       "3        germany          uefa               1.2                2.9   \n",
       "4         brazil      conmebol               2.8                7.1   \n",
       "\n",
       "   gdp_weighted_share  \n",
       "0                11.3  \n",
       "1                 9.1  \n",
       "2                 7.3  \n",
       "3                 6.3  \n",
       "4                 5.4  "
      ]
     },
     "execution_count": 27,
     "metadata": {},
     "output_type": "execute_result"
    }
   ],
   "source": [
    "df2 = pd.read_csv('./data/fifa_countries_confederations.csv')\n",
    "df2.info(verbose=True)\n",
    "df2.head()"
   ]
  },
  {
   "cell_type": "code",
   "execution_count": 28,
   "metadata": {},
   "outputs": [
    {
     "data": {
      "text/plain": [
       "191"
      ]
     },
     "execution_count": 28,
     "metadata": {},
     "output_type": "execute_result"
    }
   ],
   "source": [
    "len(df2['country'].unique())"
   ]
  },
  {
   "cell_type": "code",
   "execution_count": 8,
   "metadata": {},
   "outputs": [],
   "source": [
    "df2.country = df2.country.str.title()"
   ]
  },
  {
   "cell_type": "code",
   "execution_count": 9,
   "metadata": {},
   "outputs": [
    {
     "data": {
      "text/plain": [
       "191"
      ]
     },
     "execution_count": 9,
     "metadata": {},
     "output_type": "execute_result"
    }
   ],
   "source": [
    "len(df2['country'].unique())"
   ]
  },
  {
   "cell_type": "code",
   "execution_count": 10,
   "metadata": {},
   "outputs": [
    {
     "data": {
      "text/plain": [
       "array(['United States', 'Japan', 'China', 'Germany', 'Brazil',\n",
       "       'United Kingdom', 'Italy', 'France', 'Russia', 'Spain',\n",
       "       'South Korea', 'Indonesia', 'Mexico', 'Turkey', 'Thailand',\n",
       "       'Argentina', 'Netherlands', 'Poland', 'Saudi Arabia', 'Taiwan',\n",
       "       'Canada', 'Colombia', 'Venezuela', 'South Africa', 'Malaysia',\n",
       "       'Switzerland', 'Nigeria', 'Belgium', 'Sweden', 'Vietnam', 'Iran',\n",
       "       'Chile', 'Romania', 'Austria', 'Singapore', 'Australia', 'Greece',\n",
       "       'Portugal', 'India', 'Czech Republic', 'Egypt', 'Denmark',\n",
       "       'Norway', 'Peru', 'Ukraine', 'Iraq', 'Hungary', 'Kazakhstan',\n",
       "       'Finland', 'Ireland', 'Algeria', 'Cuba', 'Ecuador', 'Slovakia',\n",
       "       'Qatar', 'Kuwait', 'Bulgaria', 'Serbia', 'Belarus', 'Hong Kong',\n",
       "       'Croatia', 'Oman', 'Dominica Republic', 'Azerbaijan',\n",
       "       'New Zealand', 'Lithuania', 'Slovenia', 'Uruguay', 'Costa Rica',\n",
       "       'Uzbekistan', 'Yemen', 'Israel', 'El Salvador', 'Syria',\n",
       "       'Pakistan', 'Guatemala', 'Paraguay', 'Panama',\n",
       "       'Bosnia-Herzegovina', 'Cambodia', 'Ivory Coast', 'Macau', 'Latvia',\n",
       "       'Lebanon', 'Jordan', 'Honduras', 'Brunei', 'Albania',\n",
       "       'Turkmenistan', 'Angola', 'Estonia', 'Bahrain', 'Nepal', 'Cyprus',\n",
       "       'Ghana', 'Mauritius', 'Macedonia', 'Kenya', 'Trinidad &Tobago',\n",
       "       'Philippines', 'Bolivia', 'Laos', 'Armenia', 'Nicaragua',\n",
       "       'Afghanistan', 'Kosovo', 'Cameroon', 'Senegal', 'Jamaica',\n",
       "       'Sri Lanka', 'Myanmar', 'Moldova', 'Malta', 'Bangladesh', 'Zambia',\n",
       "       'Morocco', 'North Korea', 'Botswana', 'Tajikistan', 'Iceland',\n",
       "       'Uganda', 'Libya', 'Palestine', 'Kyrgyzstan', 'Mongolia',\n",
       "       'Montenegro', 'Tanzania', 'Georgia', 'Suriname', 'Sudan', 'Gabon',\n",
       "       'Madagascar', 'Tunisia', 'Ethiopia', 'Zimbabwe', 'Namibia',\n",
       "       'Bahamas', 'Papua New Guinea', 'Guyana', 'Turks & Caicos',\n",
       "       'Congo Dr', 'Burkina Faso', 'Guinea', 'Haiti', 'Fiji', 'Barbados',\n",
       "       'Mali', 'Bermuda', 'St. Maarten', 'Equatorial Guinea',\n",
       "       'Mozambique', 'Seychelles', 'Cape Verde', 'Benin', 'Swaziland',\n",
       "       'Cayman Islands', 'Aruba', 'Maldives', 'Niger', 'Curacao',\n",
       "       'St. Lucia', 'Togo', 'Burundi', 'Congo, Rep.', 'Antigua & Barbuda',\n",
       "       'Chad', 'Eritrea', 'Grenada', 'Lesotho', 'St. Vincent', 'Malawi',\n",
       "       'Sierra Leone', 'Mauritania', 'Solomon Islands', 'Dominica',\n",
       "       'Timor', 'St. Kitts', 'Rwanda', 'Somalia', 'Gambia', 'Samoa',\n",
       "       'Guinea-Bissau', 'Central African Republic', 'Vanuatu',\n",
       "       'American Samoa', 'Cook Islands', 'Tonga', 'Liberia', 'Palau',\n",
       "       'Nauru', 'Niue'], dtype=object)"
      ]
     },
     "execution_count": 10,
     "metadata": {},
     "output_type": "execute_result"
    }
   ],
   "source": [
    "df2['country'].unique()"
   ]
  },
  {
   "cell_type": "code",
   "execution_count": 12,
   "metadata": {},
   "outputs": [
    {
     "data": {
      "text/plain": [
       "['Faroe Islands',\n",
       " 'Puerto Rico',\n",
       " \"Côte d'Ivoire\",\n",
       " 'Trinidad and Tobago',\n",
       " 'Korea Republic',\n",
       " 'United Arab Emirates',\n",
       " 'Wales',\n",
       " 'Congo',\n",
       " 'England',\n",
       " 'Liechtenstein',\n",
       " 'Guam',\n",
       " 'São Tomé and Príncipe',\n",
       " 'Northern Ireland',\n",
       " 'USA',\n",
       " 'Korea DPR',\n",
       " 'Timor-Leste',\n",
       " 'Dominican Republic',\n",
       " 'North Macedonia',\n",
       " 'Eswatini',\n",
       " 'Djibouti',\n",
       " 'Brunei Darussalam',\n",
       " 'Bhutan',\n",
       " 'Scotland',\n",
       " 'St. Vincent and the Grenadines',\n",
       " 'San Marino',\n",
       " 'St. Kitts and Nevis',\n",
       " 'Anguilla',\n",
       " 'Comoros',\n",
       " 'Antigua and Barbuda',\n",
       " 'Bosnia and Herzegovina',\n",
       " 'Republic of Ireland',\n",
       " 'Cabo Verde',\n",
       " 'Turks and Caicos Islands',\n",
       " 'British Virgin Islands',\n",
       " 'IR Iran',\n",
       " 'New Caledonia',\n",
       " 'Montserrat',\n",
       " 'Luxembourg',\n",
       " 'Belize',\n",
       " 'Andorra',\n",
       " 'Tahiti',\n",
       " 'Gibraltar',\n",
       " 'Curaçao',\n",
       " 'Chinese Taipei',\n",
       " 'Kyrgyz Republic',\n",
       " 'Congo DR',\n",
       " 'South Sudan',\n",
       " 'China PR',\n",
       " 'US Virgin Islands']"
      ]
     },
     "execution_count": 12,
     "metadata": {},
     "output_type": "execute_result"
    }
   ],
   "source": [
    "list(set(df['home_team'].unique()) - set(df2['country'].unique()))"
   ]
  },
  {
   "cell_type": "code",
   "execution_count": 55,
   "metadata": {},
   "outputs": [],
   "source": [
    "countries = df2['country'].unique()"
   ]
  },
  {
   "cell_type": "code",
   "execution_count": 57,
   "metadata": {},
   "outputs": [],
   "source": []
  },
  {
   "cell_type": "code",
   "execution_count": 20,
   "metadata": {},
   "outputs": [],
   "source": [
    "def findCountry (country_name):\n",
    "    try:\n",
    "        return pycountry.countries.search_fuzzy(country_name)[0].alpha_3\n",
    "    except:\n",
    "        return (\"not founded\")"
   ]
  },
  {
   "cell_type": "code",
   "execution_count": 19,
   "metadata": {},
   "outputs": [
    {
     "data": {
      "text/plain": [
       "'USA'"
      ]
     },
     "execution_count": 19,
     "metadata": {},
     "output_type": "execute_result"
    }
   ],
   "source": [
    "pycountry.countries.search_fuzzy('United States')[0].alpha_3"
   ]
  },
  {
   "cell_type": "code",
   "execution_count": 21,
   "metadata": {},
   "outputs": [],
   "source": [
    "df2['country_alpha'] = df2.apply(lambda row: findCountry(row.country) , axis = 1)"
   ]
  },
  {
   "cell_type": "code",
   "execution_count": 25,
   "metadata": {},
   "outputs": [],
   "source": [
    "df2.to_csv('./data/test.csv')"
   ]
  },
  {
   "cell_type": "code",
   "execution_count": 23,
   "metadata": {},
   "outputs": [
    {
     "data": {
      "text/plain": [
       "<AxesSubplot: >"
      ]
     },
     "execution_count": 23,
     "metadata": {},
     "output_type": "execute_result"
    },
    {
     "data": {
      "image/png": "[encoded data removed]",
      "text/plain": [
       "<Figure size 640x480 with 1 Axes>"
      ]
     },
     "metadata": {},
     "output_type": "display_data"
    }
   ],
   "source": [
    "df2['country_alpha'].value_counts().head(25).plot(kind='bar')"
   ]
  },
  {
   "cell_type": "code",
   "execution_count": 26,
   "metadata": {},
   "outputs": [
    {
     "ename": "LookupError",
     "evalue": "ivory coast",
     "output_type": "error",
     "traceback": [
      "\u001b[1;31m---------------------------------------------------------------------------\u001b[0m",
      "\u001b[1;31mLookupError\u001b[0m                               Traceback (most recent call last)",
      "Cell \u001b[1;32mIn [26], line 1\u001b[0m\n\u001b[1;32m----> 1\u001b[0m pycountry\u001b[39m.\u001b[39;49mcountries\u001b[39m.\u001b[39;49msearch_fuzzy(\u001b[39m'\u001b[39;49m\u001b[39mIvory Coast\u001b[39;49m\u001b[39m'\u001b[39;49m)\n",
      "File \u001b[1;32md:\\projects\\data-science\\fifa-world-cup-2022\\venv\\lib\\site-packages\\pycountry\\__init__.py:96\u001b[0m, in \u001b[0;36mExistingCountries.search_fuzzy\u001b[1;34m(self, query)\u001b[0m\n\u001b[0;32m     93\u001b[0m         add_result(candidate\u001b[39m.\u001b[39mcountry, \u001b[39mmax\u001b[39m([\u001b[39m1\u001b[39m, \u001b[39m5\u001b[39m \u001b[39m-\u001b[39m v\u001b[39m.\u001b[39mfind(query)]))\n\u001b[0;32m     95\u001b[0m \u001b[39mif\u001b[39;00m \u001b[39mnot\u001b[39;00m results:\n\u001b[1;32m---> 96\u001b[0m     \u001b[39mraise\u001b[39;00m \u001b[39mLookupError\u001b[39;00m(query)\n\u001b[0;32m     98\u001b[0m results \u001b[39m=\u001b[39m [\n\u001b[0;32m     99\u001b[0m     \u001b[39mself\u001b[39m\u001b[39m.\u001b[39mget(alpha_2\u001b[39m=\u001b[39mx[\u001b[39m0\u001b[39m])\n\u001b[0;32m    100\u001b[0m     \u001b[39m# sort by points first, by alpha2 code second, and to ensure stable\u001b[39;00m\n\u001b[1;32m   (...)\u001b[0m\n\u001b[0;32m    103\u001b[0m     \u001b[39mfor\u001b[39;00m x \u001b[39min\u001b[39;00m \u001b[39msorted\u001b[39m(results\u001b[39m.\u001b[39mitems(), key\u001b[39m=\u001b[39m\u001b[39mlambda\u001b[39;00m x: (\u001b[39m-\u001b[39mx[\u001b[39m1\u001b[39m], x[\u001b[39m0\u001b[39m]))\n\u001b[0;32m    104\u001b[0m ]\n\u001b[0;32m    105\u001b[0m \u001b[39mreturn\u001b[39;00m results\n",
      "\u001b[1;31mLookupError\u001b[0m: ivory coast"
     ]
    }
   ],
   "source": [
    "pycountry.countries.search_fuzzy('Ivory Coast')"
   ]
  },
  {
   "cell_type": "code",
   "execution_count": null,
   "metadata": {},
   "outputs": [],
   "source": []
  },
  {
   "cell_type": "code",
   "execution_count": 86,
   "metadata": {},
   "outputs": [],
   "source": [
    "df['home_team_alpha'] = df.apply(lambda row: findCountry(row.home_team) , axis = 1)"
   ]
  },
  {
   "cell_type": "code",
   "execution_count": 65,
   "metadata": {},
   "outputs": [
    {
     "data": {
      "text/html": [
       "<div>\n",
       "<style scoped>\n",
       "    .dataframe tbody tr th:only-of-type {\n",
       "        vertical-align: middle;\n",
       "    }\n",
       "\n",
       "    .dataframe tbody tr th {\n",
       "        vertical-align: top;\n",
       "    }\n",
       "\n",
       "    .dataframe thead th {\n",
       "        text-align: right;\n",
       "    }\n",
       "</style>\n",
       "<table border=\"1\" class=\"dataframe\">\n",
       "  <thead>\n",
       "    <tr style=\"text-align: right;\">\n",
       "      <th></th>\n",
       "      <th>match_id</th>\n",
       "      <th>date</th>\n",
       "      <th>home_team</th>\n",
       "      <th>away_team</th>\n",
       "      <th>home_team_continent</th>\n",
       "      <th>away_team_continent</th>\n",
       "      <th>home_team_fifa_rank</th>\n",
       "      <th>away_team_fifa_rank</th>\n",
       "      <th>home_team_total_fifa_points</th>\n",
       "      <th>away_team_total_fifa_points</th>\n",
       "      <th>home_team_score</th>\n",
       "      <th>away_team_score</th>\n",
       "      <th>tournament</th>\n",
       "      <th>city</th>\n",
       "      <th>country</th>\n",
       "      <th>neutral_location</th>\n",
       "      <th>shoot_out</th>\n",
       "      <th>home_team_result</th>\n",
       "      <th>home_team_alpha</th>\n",
       "    </tr>\n",
       "  </thead>\n",
       "  <tbody>\n",
       "    <tr>\n",
       "      <th>0</th>\n",
       "      <td>1</td>\n",
       "      <td>1993-08-08</td>\n",
       "      <td>Bolivia</td>\n",
       "      <td>Uruguay</td>\n",
       "      <td>South America</td>\n",
       "      <td>South America</td>\n",
       "      <td>59</td>\n",
       "      <td>22</td>\n",
       "      <td>0</td>\n",
       "      <td>0</td>\n",
       "      <td>3</td>\n",
       "      <td>1</td>\n",
       "      <td>FIFA World Cup qualification</td>\n",
       "      <td>La Paz</td>\n",
       "      <td>Bolivia</td>\n",
       "      <td>False</td>\n",
       "      <td>False</td>\n",
       "      <td>Win</td>\n",
       "      <td>not founded</td>\n",
       "    </tr>\n",
       "    <tr>\n",
       "      <th>1</th>\n",
       "      <td>2</td>\n",
       "      <td>1993-08-08</td>\n",
       "      <td>Brazil</td>\n",
       "      <td>Mexico</td>\n",
       "      <td>South America</td>\n",
       "      <td>North America</td>\n",
       "      <td>8</td>\n",
       "      <td>14</td>\n",
       "      <td>0</td>\n",
       "      <td>0</td>\n",
       "      <td>1</td>\n",
       "      <td>1</td>\n",
       "      <td>Friendly</td>\n",
       "      <td>Maceió</td>\n",
       "      <td>Brazil</td>\n",
       "      <td>False</td>\n",
       "      <td>False</td>\n",
       "      <td>Draw</td>\n",
       "      <td>BRA</td>\n",
       "    </tr>\n",
       "    <tr>\n",
       "      <th>2</th>\n",
       "      <td>3</td>\n",
       "      <td>1993-08-08</td>\n",
       "      <td>Ecuador</td>\n",
       "      <td>Venezuela</td>\n",
       "      <td>South America</td>\n",
       "      <td>South America</td>\n",
       "      <td>35</td>\n",
       "      <td>94</td>\n",
       "      <td>0</td>\n",
       "      <td>0</td>\n",
       "      <td>5</td>\n",
       "      <td>0</td>\n",
       "      <td>FIFA World Cup qualification</td>\n",
       "      <td>Quito</td>\n",
       "      <td>Ecuador</td>\n",
       "      <td>False</td>\n",
       "      <td>False</td>\n",
       "      <td>Win</td>\n",
       "      <td>ECU</td>\n",
       "    </tr>\n",
       "    <tr>\n",
       "      <th>3</th>\n",
       "      <td>4</td>\n",
       "      <td>1993-08-08</td>\n",
       "      <td>Guinea</td>\n",
       "      <td>Sierra Leone</td>\n",
       "      <td>Africa</td>\n",
       "      <td>Africa</td>\n",
       "      <td>65</td>\n",
       "      <td>86</td>\n",
       "      <td>0</td>\n",
       "      <td>0</td>\n",
       "      <td>1</td>\n",
       "      <td>0</td>\n",
       "      <td>Friendly</td>\n",
       "      <td>Conakry</td>\n",
       "      <td>Guinea</td>\n",
       "      <td>False</td>\n",
       "      <td>False</td>\n",
       "      <td>Win</td>\n",
       "      <td>GIN</td>\n",
       "    </tr>\n",
       "    <tr>\n",
       "      <th>4</th>\n",
       "      <td>5</td>\n",
       "      <td>1993-08-08</td>\n",
       "      <td>Paraguay</td>\n",
       "      <td>Argentina</td>\n",
       "      <td>South America</td>\n",
       "      <td>South America</td>\n",
       "      <td>67</td>\n",
       "      <td>5</td>\n",
       "      <td>0</td>\n",
       "      <td>0</td>\n",
       "      <td>1</td>\n",
       "      <td>3</td>\n",
       "      <td>FIFA World Cup qualification</td>\n",
       "      <td>Asunción</td>\n",
       "      <td>Paraguay</td>\n",
       "      <td>False</td>\n",
       "      <td>False</td>\n",
       "      <td>Lose</td>\n",
       "      <td>PRY</td>\n",
       "    </tr>\n",
       "  </tbody>\n",
       "</table>\n",
       "</div>"
      ],
      "text/plain": [
       "   match_id        date home_team     away_team home_team_continent  \\\n",
       "0         1  1993-08-08   Bolivia       Uruguay       South America   \n",
       "1         2  1993-08-08    Brazil        Mexico       South America   \n",
       "2         3  1993-08-08   Ecuador     Venezuela       South America   \n",
       "3         4  1993-08-08    Guinea  Sierra Leone              Africa   \n",
       "4         5  1993-08-08  Paraguay     Argentina       South America   \n",
       "\n",
       "  away_team_continent  home_team_fifa_rank  away_team_fifa_rank  \\\n",
       "0       South America                   59                   22   \n",
       "1       North America                    8                   14   \n",
       "2       South America                   35                   94   \n",
       "3              Africa                   65                   86   \n",
       "4       South America                   67                    5   \n",
       "\n",
       "   home_team_total_fifa_points  away_team_total_fifa_points  home_team_score  \\\n",
       "0                            0                            0                3   \n",
       "1                            0                            0                1   \n",
       "2                            0                            0                5   \n",
       "3                            0                            0                1   \n",
       "4                            0                            0                1   \n",
       "\n",
       "   away_team_score                    tournament      city   country  \\\n",
       "0                1  FIFA World Cup qualification    La Paz   Bolivia   \n",
       "1                1                      Friendly    Maceió    Brazil   \n",
       "2                0  FIFA World Cup qualification     Quito   Ecuador   \n",
       "3                0                      Friendly   Conakry    Guinea   \n",
       "4                3  FIFA World Cup qualification  Asunción  Paraguay   \n",
       "\n",
       "   neutral_location  shoot_out home_team_result home_team_alpha  \n",
       "0             False      False              Win     not founded  \n",
       "1             False      False             Draw             BRA  \n",
       "2             False      False              Win             ECU  \n",
       "3             False      False              Win             GIN  \n",
       "4             False      False             Lose             PRY  "
      ]
     },
     "execution_count": 65,
     "metadata": {},
     "output_type": "execute_result"
    }
   ],
   "source": [
    "df.head()"
   ]
  },
  {
   "cell_type": "code",
   "execution_count": 62,
   "metadata": {},
   "outputs": [
    {
     "data": {
      "text/plain": [
       "[Country(alpha_2='BO', alpha_3='BOL', common_name='Bolivia', flag='🇧🇴', name='Bolivia, Plurinational State of', numeric='068', official_name='Plurinational State of Bolivia')]"
      ]
     },
     "execution_count": 62,
     "metadata": {},
     "output_type": "execute_result"
    }
   ],
   "source": [
    "pycountry.countries.search_fuzzy('Bolivia')"
   ]
  },
  {
   "cell_type": "code",
   "execution_count": 67,
   "metadata": {},
   "outputs": [
    {
     "data": {
      "text/plain": [
       "'Bolivia'"
      ]
     },
     "execution_count": 67,
     "metadata": {},
     "output_type": "execute_result"
    }
   ],
   "source": [
    "df['home_team'][0]"
   ]
  },
  {
   "cell_type": "code",
   "execution_count": 69,
   "metadata": {},
   "outputs": [
    {
     "data": {
      "text/plain": [
       "[Country(alpha_2='BO', alpha_3='BOL', common_name='Bolivia', flag='🇧🇴', name='Bolivia, Plurinational State of', numeric='068', official_name='Plurinational State of Bolivia')]"
      ]
     },
     "execution_count": 69,
     "metadata": {},
     "output_type": "execute_result"
    }
   ],
   "source": [
    "pycountry.countries.search_fuzzy(df['home_team'][0])"
   ]
  },
  {
   "cell_type": "code",
   "execution_count": 72,
   "metadata": {},
   "outputs": [
    {
     "data": {
      "text/plain": [
       "array(['not founded', 'BRA', 'ECU', 'GIN', 'PRY', 'PER', 'ZWE', 'FRO',\n",
       "       'SWE', 'AUS', 'COL', 'COG', 'URY', 'ARG', 'AUT', 'DNK', 'ISL',\n",
       "       'EST', 'SWZ', 'ALB', 'BGR', 'FIN', 'HUN', 'NOR', 'ESP', 'MAR',\n",
       "       'SAU', 'MEX', 'ROU', 'SMR', 'TUN', 'NGA', 'ZMB', 'JPN', 'CYP',\n",
       "       'BEL', 'DZA', 'CMR', 'LUX', 'FRA', 'DEU', 'ITA', 'NLD', 'POL',\n",
       "       'PRT', 'IRQ', 'BDI', 'LIE', 'ARE', 'ISR', 'TUR', 'EGY', 'GAB',\n",
       "       'GRC', 'MLT', 'CHE', 'GMB', 'SLE', 'GNB', 'SEN', 'MLI', 'GHA',\n",
       "       'KEN', 'BGD', 'BRB', 'MRT', 'THA', 'CRI', 'SUR', 'GRD', 'QAT',\n",
       "       'BFA', 'CIV', 'OMN', 'SVN', 'MWI', 'CYM', 'DOM', 'AGO', 'TTO',\n",
       "       'LTU', 'SVK', 'ZAF', 'KWT', 'SLV', 'HND', 'CHL', 'FJI', 'UKR',\n",
       "       'CAN', 'MKD', 'LVA', 'HRV', 'BWA', 'SLB', 'VUT', 'ARM', 'GEO',\n",
       "       'MMR', 'NER', 'NAM', 'ETH', 'LBR', 'MDG', 'SDN', 'IND', 'MYS',\n",
       "       'BLR', 'UGA', 'MOZ', 'TGO', 'BHR', 'LSO', 'AZE', 'JAM', 'MUS',\n",
       "       'HKG', 'NZL', 'NPL', 'PAK', 'LBN', 'LKA', 'GUY', 'ATG', 'CUB',\n",
       "       'IDN', 'UZB', 'PAN', 'NIC', 'CPV', 'DMA', 'GTM', 'YEM', 'PHL',\n",
       "       'TKM', 'ABW', 'HTI', 'TJK', 'BLZ', 'RWA', 'KAZ', 'MDV', 'SGP',\n",
       "       'BEN', 'JOR', 'SYC', 'KHM', 'BRN', 'CAF', 'BIH', 'TON', 'PNG',\n",
       "       'LBY', 'AND', 'TCD', 'GNQ', 'COK', 'WSM', 'BMU', 'ERI', 'SOM',\n",
       "       'AIA', 'PRI', 'BHS', 'MSR', 'DJI', 'ASM', 'MNG', 'BTN', 'GUM',\n",
       "       'AFG', 'TCA', 'SRB', 'NCL', 'MNE', 'TLS', 'COM', 'CUW', 'SSD',\n",
       "       'GIB'], dtype=object)"
      ]
     },
     "execution_count": 72,
     "metadata": {},
     "output_type": "execute_result"
    }
   ],
   "source": [
    "df['home_team_alpha'].unique()"
   ]
  },
  {
   "cell_type": "code",
   "execution_count": 73,
   "metadata": {},
   "outputs": [
    {
     "data": {
      "text/plain": [
       "180"
      ]
     },
     "execution_count": 73,
     "metadata": {},
     "output_type": "execute_result"
    }
   ],
   "source": [
    "len(df['home_team_alpha'].unique())"
   ]
  },
  {
   "cell_type": "code",
   "execution_count": null,
   "metadata": {},
   "outputs": [],
   "source": []
  },
  {
   "cell_type": "code",
   "execution_count": 76,
   "metadata": {},
   "outputs": [],
   "source": []
  },
  {
   "cell_type": "code",
   "execution_count": 77,
   "metadata": {},
   "outputs": [
    {
     "data": {
      "text/html": [
       "<div>\n",
       "<style scoped>\n",
       "    .dataframe tbody tr th:only-of-type {\n",
       "        vertical-align: middle;\n",
       "    }\n",
       "\n",
       "    .dataframe tbody tr th {\n",
       "        vertical-align: top;\n",
       "    }\n",
       "\n",
       "    .dataframe thead th {\n",
       "        text-align: right;\n",
       "    }\n",
       "</style>\n",
       "<table border=\"1\" class=\"dataframe\">\n",
       "  <thead>\n",
       "    <tr style=\"text-align: right;\">\n",
       "      <th></th>\n",
       "      <th>country</th>\n",
       "      <th>confederation</th>\n",
       "      <th>population_share</th>\n",
       "      <th>tv_audience_share</th>\n",
       "      <th>gdp_weighted_share</th>\n",
       "    </tr>\n",
       "  </thead>\n",
       "  <tbody>\n",
       "    <tr>\n",
       "      <th>0</th>\n",
       "      <td>USA</td>\n",
       "      <td>concacaf</td>\n",
       "      <td>4.5</td>\n",
       "      <td>4.3</td>\n",
       "      <td>11.3</td>\n",
       "    </tr>\n",
       "    <tr>\n",
       "      <th>1</th>\n",
       "      <td>JPN</td>\n",
       "      <td>afc</td>\n",
       "      <td>1.9</td>\n",
       "      <td>4.9</td>\n",
       "      <td>9.1</td>\n",
       "    </tr>\n",
       "    <tr>\n",
       "      <th>2</th>\n",
       "      <td>CHN</td>\n",
       "      <td>afc</td>\n",
       "      <td>19.5</td>\n",
       "      <td>14.8</td>\n",
       "      <td>7.3</td>\n",
       "    </tr>\n",
       "    <tr>\n",
       "      <th>3</th>\n",
       "      <td>DEU</td>\n",
       "      <td>uefa</td>\n",
       "      <td>1.2</td>\n",
       "      <td>2.9</td>\n",
       "      <td>6.3</td>\n",
       "    </tr>\n",
       "    <tr>\n",
       "      <th>4</th>\n",
       "      <td>BRA</td>\n",
       "      <td>conmebol</td>\n",
       "      <td>2.8</td>\n",
       "      <td>7.1</td>\n",
       "      <td>5.4</td>\n",
       "    </tr>\n",
       "    <tr>\n",
       "      <th>...</th>\n",
       "      <td>...</td>\n",
       "      <td>...</td>\n",
       "      <td>...</td>\n",
       "      <td>...</td>\n",
       "      <td>...</td>\n",
       "    </tr>\n",
       "    <tr>\n",
       "      <th>186</th>\n",
       "      <td>TON</td>\n",
       "      <td>ofc</td>\n",
       "      <td>0.0</td>\n",
       "      <td>0.0</td>\n",
       "      <td>0.0</td>\n",
       "    </tr>\n",
       "    <tr>\n",
       "      <th>187</th>\n",
       "      <td>LBR</td>\n",
       "      <td>caf</td>\n",
       "      <td>0.1</td>\n",
       "      <td>0.0</td>\n",
       "      <td>0.0</td>\n",
       "    </tr>\n",
       "    <tr>\n",
       "      <th>188</th>\n",
       "      <td>PLW</td>\n",
       "      <td>ofc</td>\n",
       "      <td>0.0</td>\n",
       "      <td>0.0</td>\n",
       "      <td>0.0</td>\n",
       "    </tr>\n",
       "    <tr>\n",
       "      <th>189</th>\n",
       "      <td>NRU</td>\n",
       "      <td>ofc</td>\n",
       "      <td>0.0</td>\n",
       "      <td>0.0</td>\n",
       "      <td>0.0</td>\n",
       "    </tr>\n",
       "    <tr>\n",
       "      <th>190</th>\n",
       "      <td>NIU</td>\n",
       "      <td>ofc</td>\n",
       "      <td>0.0</td>\n",
       "      <td>0.0</td>\n",
       "      <td>0.0</td>\n",
       "    </tr>\n",
       "  </tbody>\n",
       "</table>\n",
       "<p>191 rows × 5 columns</p>\n",
       "</div>"
      ],
      "text/plain": [
       "    country confederation  population_share  tv_audience_share  \\\n",
       "0       USA      concacaf               4.5                4.3   \n",
       "1       JPN           afc               1.9                4.9   \n",
       "2       CHN           afc              19.5               14.8   \n",
       "3       DEU          uefa               1.2                2.9   \n",
       "4       BRA      conmebol               2.8                7.1   \n",
       "..      ...           ...               ...                ...   \n",
       "186     TON           ofc               0.0                0.0   \n",
       "187     LBR           caf               0.1                0.0   \n",
       "188     PLW           ofc               0.0                0.0   \n",
       "189     NRU           ofc               0.0                0.0   \n",
       "190     NIU           ofc               0.0                0.0   \n",
       "\n",
       "     gdp_weighted_share  \n",
       "0                  11.3  \n",
       "1                   9.1  \n",
       "2                   7.3  \n",
       "3                   6.3  \n",
       "4                   5.4  \n",
       "..                  ...  \n",
       "186                 0.0  \n",
       "187                 0.0  \n",
       "188                 0.0  \n",
       "189                 0.0  \n",
       "190                 0.0  \n",
       "\n",
       "[191 rows x 5 columns]"
      ]
     },
     "execution_count": 77,
     "metadata": {},
     "output_type": "execute_result"
    }
   ],
   "source": [
    "df2"
   ]
  },
  {
   "cell_type": "code",
   "execution_count": 82,
   "metadata": {},
   "outputs": [
    {
     "data": {
      "text/plain": [
       "count             191\n",
       "unique            158\n",
       "top       not founded\n",
       "freq               34\n",
       "Name: country, dtype: object"
      ]
     },
     "execution_count": 82,
     "metadata": {},
     "output_type": "execute_result"
    }
   ],
   "source": [
    "df2['country'].describe()"
   ]
  },
  {
   "cell_type": "code",
   "execution_count": 79,
   "metadata": {},
   "outputs": [
    {
     "data": {
      "text/plain": [
       "158"
      ]
     },
     "execution_count": 79,
     "metadata": {},
     "output_type": "execute_result"
    }
   ],
   "source": [
    "len(df2['country'].unique())"
   ]
  },
  {
   "cell_type": "code",
   "execution_count": 83,
   "metadata": {},
   "outputs": [
    {
     "data": {
      "text/plain": [
       "<AxesSubplot: >"
      ]
     },
     "execution_count": 83,
     "metadata": {},
     "output_type": "execute_result"
    },
    {
     "data": {
      "image/png": "[encoded data removed]",
      "text/plain": [
       "<Figure size 640x480 with 1 Axes>"
      ]
     },
     "metadata": {},
     "output_type": "display_data"
    }
   ],
   "source": [
    "df['home_team_alpha'].value_counts().head(25).plot(kind='bar')"
   ]
  },
  {
   "cell_type": "code",
   "execution_count": 84,
   "metadata": {},
   "outputs": [
    {
     "data": {
      "text/plain": [
       "<AxesSubplot: >"
      ]
     },
     "execution_count": 84,
     "metadata": {},
     "output_type": "execute_result"
    },
    {
     "data": {
      "image/png": "[encoded data removed]",
      "text/plain": [
       "<Figure size 640x480 with 1 Axes>"
      ]
     },
     "metadata": {},
     "output_type": "display_data"
    }
   ],
   "source": [
    "df2['country'].value_counts().head(25).plot(kind='bar')"
   ]
  },
  {
   "cell_type": "code",
   "execution_count": null,
   "metadata": {},
   "outputs": [],
   "source": []
  }
 ],
 "metadata": {
  "kernelspec": {
   "display_name": "Python 3.10.7 ('venv': venv)",
   "language": "python",
   "name": "python3"
  },
  "language_info": {
   "codemirror_mode": {
    "name": "ipython",
    "version": 3
   },
   "file_extension": ".py",
   "mimetype": "text/x-python",
   "name": "python",
   "nbconvert_exporter": "python",
   "pygments_lexer": "ipython3",
   "version": "3.10.7"
  },
  "orig_nbformat": 4,
  "vscode": {
   "interpreter": {
    "hash": "64716dcc7f862df0293299df7c5f58d1d6e8be6f933b2ddf3dad2c8d17372c1c"
   }
  }
 },
 "nbformat": 4,
 "nbformat_minor": 2
}
