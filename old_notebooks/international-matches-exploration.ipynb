{
 "cells": [
  {
   "cell_type": "code",
   "execution_count": 1,
   "metadata": {},
   "outputs": [],
   "source": [
    "import numpy as np\n",
    "import pandas as pd\n",
    "import matplotlib.pyplot as plt\n",
    "import seaborn as sns\n",
    "import pycountry"
   ]
  },
  {
   "cell_type": "code",
   "execution_count": 10,
   "metadata": {},
   "outputs": [
    {
     "data": {
      "text/html": [
       "<div>\n",
       "<style scoped>\n",
       "    .dataframe tbody tr th:only-of-type {\n",
       "        vertical-align: middle;\n",
       "    }\n",
       "\n",
       "    .dataframe tbody tr th {\n",
       "        vertical-align: top;\n",
       "    }\n",
       "\n",
       "    .dataframe thead th {\n",
       "        text-align: right;\n",
       "    }\n",
       "</style>\n",
       "<table border=\"1\" class=\"dataframe\">\n",
       "  <thead>\n",
       "    <tr style=\"text-align: right;\">\n",
       "      <th></th>\n",
       "      <th>match_id</th>\n",
       "      <th>date</th>\n",
       "      <th>home_team</th>\n",
       "      <th>away_team</th>\n",
       "      <th>home_score</th>\n",
       "      <th>away_score</th>\n",
       "      <th>tournament</th>\n",
       "      <th>city</th>\n",
       "      <th>country</th>\n",
       "      <th>neutral</th>\n",
       "    </tr>\n",
       "  </thead>\n",
       "  <tbody>\n",
       "    <tr>\n",
       "      <th>0</th>\n",
       "      <td>1</td>\n",
       "      <td>1872-11-30</td>\n",
       "      <td>Scotland</td>\n",
       "      <td>England</td>\n",
       "      <td>0.0</td>\n",
       "      <td>0.0</td>\n",
       "      <td>Friendly</td>\n",
       "      <td>Glasgow</td>\n",
       "      <td>Scotland</td>\n",
       "      <td>False</td>\n",
       "    </tr>\n",
       "    <tr>\n",
       "      <th>1</th>\n",
       "      <td>2</td>\n",
       "      <td>1873-03-08</td>\n",
       "      <td>England</td>\n",
       "      <td>Scotland</td>\n",
       "      <td>4.0</td>\n",
       "      <td>2.0</td>\n",
       "      <td>Friendly</td>\n",
       "      <td>London</td>\n",
       "      <td>England</td>\n",
       "      <td>False</td>\n",
       "    </tr>\n",
       "    <tr>\n",
       "      <th>2</th>\n",
       "      <td>3</td>\n",
       "      <td>1874-03-07</td>\n",
       "      <td>Scotland</td>\n",
       "      <td>England</td>\n",
       "      <td>2.0</td>\n",
       "      <td>1.0</td>\n",
       "      <td>Friendly</td>\n",
       "      <td>Glasgow</td>\n",
       "      <td>Scotland</td>\n",
       "      <td>False</td>\n",
       "    </tr>\n",
       "    <tr>\n",
       "      <th>3</th>\n",
       "      <td>4</td>\n",
       "      <td>1875-03-06</td>\n",
       "      <td>England</td>\n",
       "      <td>Scotland</td>\n",
       "      <td>2.0</td>\n",
       "      <td>2.0</td>\n",
       "      <td>Friendly</td>\n",
       "      <td>London</td>\n",
       "      <td>England</td>\n",
       "      <td>False</td>\n",
       "    </tr>\n",
       "    <tr>\n",
       "      <th>4</th>\n",
       "      <td>5</td>\n",
       "      <td>1876-03-04</td>\n",
       "      <td>Scotland</td>\n",
       "      <td>England</td>\n",
       "      <td>3.0</td>\n",
       "      <td>0.0</td>\n",
       "      <td>Friendly</td>\n",
       "      <td>Glasgow</td>\n",
       "      <td>Scotland</td>\n",
       "      <td>False</td>\n",
       "    </tr>\n",
       "    <tr>\n",
       "      <th>...</th>\n",
       "      <td>...</td>\n",
       "      <td>...</td>\n",
       "      <td>...</td>\n",
       "      <td>...</td>\n",
       "      <td>...</td>\n",
       "      <td>...</td>\n",
       "      <td>...</td>\n",
       "      <td>...</td>\n",
       "      <td>...</td>\n",
       "      <td>...</td>\n",
       "    </tr>\n",
       "    <tr>\n",
       "      <th>44159</th>\n",
       "      <td>44160</td>\n",
       "      <td>2022-11-21</td>\n",
       "      <td>Senegal</td>\n",
       "      <td>Netherlands</td>\n",
       "      <td>0.0</td>\n",
       "      <td>2.0</td>\n",
       "      <td>FIFA World Cup</td>\n",
       "      <td>Doha</td>\n",
       "      <td>Qatar</td>\n",
       "      <td>True</td>\n",
       "    </tr>\n",
       "    <tr>\n",
       "      <th>44160</th>\n",
       "      <td>44161</td>\n",
       "      <td>2022-11-21</td>\n",
       "      <td>England</td>\n",
       "      <td>Iran</td>\n",
       "      <td>6.0</td>\n",
       "      <td>2.0</td>\n",
       "      <td>FIFA World Cup</td>\n",
       "      <td>Al Rayyan</td>\n",
       "      <td>Qatar</td>\n",
       "      <td>True</td>\n",
       "    </tr>\n",
       "    <tr>\n",
       "      <th>44161</th>\n",
       "      <td>44162</td>\n",
       "      <td>2022-11-21</td>\n",
       "      <td>United States</td>\n",
       "      <td>Wales</td>\n",
       "      <td>1.0</td>\n",
       "      <td>1.0</td>\n",
       "      <td>FIFA World Cup</td>\n",
       "      <td>Al Rayyan</td>\n",
       "      <td>Qatar</td>\n",
       "      <td>True</td>\n",
       "    </tr>\n",
       "    <tr>\n",
       "      <th>44162</th>\n",
       "      <td>44163</td>\n",
       "      <td>2022-11-22</td>\n",
       "      <td>Argentina</td>\n",
       "      <td>Saudi Arabia</td>\n",
       "      <td>1.0</td>\n",
       "      <td>2.0</td>\n",
       "      <td>FIFA World Cup</td>\n",
       "      <td>Lusail</td>\n",
       "      <td>Qatar</td>\n",
       "      <td>True</td>\n",
       "    </tr>\n",
       "    <tr>\n",
       "      <th>44163</th>\n",
       "      <td>44165</td>\n",
       "      <td>2022-11-22</td>\n",
       "      <td>Denmark</td>\n",
       "      <td>Tunisia</td>\n",
       "      <td>0.0</td>\n",
       "      <td>0.0</td>\n",
       "      <td>FIFA World Cup</td>\n",
       "      <td>Al Rayyan</td>\n",
       "      <td>Qatar</td>\n",
       "      <td>True</td>\n",
       "    </tr>\n",
       "  </tbody>\n",
       "</table>\n",
       "<p>44164 rows × 10 columns</p>\n",
       "</div>"
      ],
      "text/plain": [
       "       match_id        date      home_team     away_team  home_score  \\\n",
       "0             1  1872-11-30       Scotland       England         0.0   \n",
       "1             2  1873-03-08        England      Scotland         4.0   \n",
       "2             3  1874-03-07       Scotland       England         2.0   \n",
       "3             4  1875-03-06        England      Scotland         2.0   \n",
       "4             5  1876-03-04       Scotland       England         3.0   \n",
       "...         ...         ...            ...           ...         ...   \n",
       "44159     44160  2022-11-21        Senegal   Netherlands         0.0   \n",
       "44160     44161  2022-11-21        England          Iran         6.0   \n",
       "44161     44162  2022-11-21  United States         Wales         1.0   \n",
       "44162     44163  2022-11-22      Argentina  Saudi Arabia         1.0   \n",
       "44163     44165  2022-11-22        Denmark       Tunisia         0.0   \n",
       "\n",
       "       away_score      tournament       city   country  neutral  \n",
       "0             0.0        Friendly    Glasgow  Scotland    False  \n",
       "1             2.0        Friendly     London   England    False  \n",
       "2             1.0        Friendly    Glasgow  Scotland    False  \n",
       "3             2.0        Friendly     London   England    False  \n",
       "4             0.0        Friendly    Glasgow  Scotland    False  \n",
       "...           ...             ...        ...       ...      ...  \n",
       "44159         2.0  FIFA World Cup       Doha     Qatar     True  \n",
       "44160         2.0  FIFA World Cup  Al Rayyan     Qatar     True  \n",
       "44161         1.0  FIFA World Cup  Al Rayyan     Qatar     True  \n",
       "44162         2.0  FIFA World Cup     Lusail     Qatar     True  \n",
       "44163         0.0  FIFA World Cup  Al Rayyan     Qatar     True  \n",
       "\n",
       "[44164 rows x 10 columns]"
      ]
     },
     "execution_count": 10,
     "metadata": {},
     "output_type": "execute_result"
    }
   ],
   "source": [
    "df = pd.read_csv('./data/matches.csv')\n",
    "df"
   ]
  },
  {
   "cell_type": "code",
   "execution_count": 9,
   "metadata": {},
   "outputs": [
    {
     "name": "stdout",
     "output_type": "stream",
     "text": [
      "<class 'pandas.core.frame.DataFrame'>\n",
      "RangeIndex: 44164 entries, 0 to 44163\n",
      "Data columns (total 10 columns):\n",
      " #   Column      Non-Null Count  Dtype  \n",
      "---  ------      --------------  -----  \n",
      " 0   match_id    44164 non-null  int64  \n",
      " 1   date        44164 non-null  object \n",
      " 2   home_team   44164 non-null  object \n",
      " 3   away_team   44164 non-null  object \n",
      " 4   home_score  44164 non-null  float64\n",
      " 5   away_score  44164 non-null  float64\n",
      " 6   tournament  44164 non-null  object \n",
      " 7   city        44164 non-null  object \n",
      " 8   country     44164 non-null  object \n",
      " 9   neutral     44164 non-null  bool   \n",
      "dtypes: bool(1), float64(2), int64(1), object(6)\n",
      "memory usage: 3.1+ MB\n"
     ]
    },
    {
     "data": {
      "text/html": [
       "<div>\n",
       "<style scoped>\n",
       "    .dataframe tbody tr th:only-of-type {\n",
       "        vertical-align: middle;\n",
       "    }\n",
       "\n",
       "    .dataframe tbody tr th {\n",
       "        vertical-align: top;\n",
       "    }\n",
       "\n",
       "    .dataframe thead th {\n",
       "        text-align: right;\n",
       "    }\n",
       "</style>\n",
       "<table border=\"1\" class=\"dataframe\">\n",
       "  <thead>\n",
       "    <tr style=\"text-align: right;\">\n",
       "      <th></th>\n",
       "      <th>match_id</th>\n",
       "      <th>home_score</th>\n",
       "      <th>away_score</th>\n",
       "    </tr>\n",
       "  </thead>\n",
       "  <tbody>\n",
       "    <tr>\n",
       "      <th>count</th>\n",
       "      <td>44164.000000</td>\n",
       "      <td>44164.000000</td>\n",
       "      <td>44164.000000</td>\n",
       "    </tr>\n",
       "    <tr>\n",
       "      <th>mean</th>\n",
       "      <td>22082.500023</td>\n",
       "      <td>1.739494</td>\n",
       "      <td>1.178109</td>\n",
       "    </tr>\n",
       "    <tr>\n",
       "      <th>std</th>\n",
       "      <td>12749.193020</td>\n",
       "      <td>1.746572</td>\n",
       "      <td>1.394421</td>\n",
       "    </tr>\n",
       "    <tr>\n",
       "      <th>min</th>\n",
       "      <td>1.000000</td>\n",
       "      <td>0.000000</td>\n",
       "      <td>0.000000</td>\n",
       "    </tr>\n",
       "    <tr>\n",
       "      <th>25%</th>\n",
       "      <td>11041.750000</td>\n",
       "      <td>1.000000</td>\n",
       "      <td>0.000000</td>\n",
       "    </tr>\n",
       "    <tr>\n",
       "      <th>50%</th>\n",
       "      <td>22082.500000</td>\n",
       "      <td>1.000000</td>\n",
       "      <td>1.000000</td>\n",
       "    </tr>\n",
       "    <tr>\n",
       "      <th>75%</th>\n",
       "      <td>33123.250000</td>\n",
       "      <td>2.000000</td>\n",
       "      <td>2.000000</td>\n",
       "    </tr>\n",
       "    <tr>\n",
       "      <th>max</th>\n",
       "      <td>44165.000000</td>\n",
       "      <td>31.000000</td>\n",
       "      <td>21.000000</td>\n",
       "    </tr>\n",
       "  </tbody>\n",
       "</table>\n",
       "</div>"
      ],
      "text/plain": [
       "           match_id    home_score    away_score\n",
       "count  44164.000000  44164.000000  44164.000000\n",
       "mean   22082.500023      1.739494      1.178109\n",
       "std    12749.193020      1.746572      1.394421\n",
       "min        1.000000      0.000000      0.000000\n",
       "25%    11041.750000      1.000000      0.000000\n",
       "50%    22082.500000      1.000000      1.000000\n",
       "75%    33123.250000      2.000000      2.000000\n",
       "max    44165.000000     31.000000     21.000000"
      ]
     },
     "execution_count": 9,
     "metadata": {},
     "output_type": "execute_result"
    }
   ],
   "source": [
    "df.info(verbose=True)\n",
    "df.describe()"
   ]
  },
  {
   "cell_type": "code",
   "execution_count": null,
   "metadata": {},
   "outputs": [],
   "source": []
  },
  {
   "cell_type": "markdown",
   "metadata": {},
   "source": [
    "## Bar Plots of Categoricals"
   ]
  },
  {
   "cell_type": "code",
   "execution_count": 3,
   "metadata": {},
   "outputs": [
    {
     "data": {
      "text/plain": [
       "<AxesSubplot: >"
      ]
     },
     "execution_count": 3,
     "metadata": {},
     "output_type": "execute_result"
    },
    {
     "data": {
      "image/png": "[encoded data removed]",
      "text/plain": [
       "<Figure size 640x480 with 1 Axes>"
      ]
     },
     "metadata": {},
     "output_type": "display_data"
    }
   ],
   "source": [
    "# tournaments with most matches (over 100) - top 25\n",
    "df['tournament'].value_counts().head(25).plot(kind='bar')"
   ]
  },
  {
   "cell_type": "code",
   "execution_count": 4,
   "metadata": {},
   "outputs": [
    {
     "data": {
      "text/plain": [
       "<AxesSubplot: >"
      ]
     },
     "execution_count": 4,
     "metadata": {},
     "output_type": "execute_result"
    },
    {
     "data": {
      "image/png": "[encoded data removed]",
      "text/plain": [
       "<Figure size 640x480 with 1 Axes>"
      ]
     },
     "metadata": {},
     "output_type": "display_data"
    }
   ],
   "source": [
    "df['home_team'].value_counts().head(25).plot(kind='bar')"
   ]
  },
  {
   "cell_type": "code",
   "execution_count": 5,
   "metadata": {},
   "outputs": [
    {
     "data": {
      "text/plain": [
       "<AxesSubplot: >"
      ]
     },
     "execution_count": 5,
     "metadata": {},
     "output_type": "execute_result"
    },
    {
     "data": {
      "image/png": "[encoded data removed]",
      "text/plain": [
       "<Figure size 640x480 with 1 Axes>"
      ]
     },
     "metadata": {},
     "output_type": "display_data"
    }
   ],
   "source": [
    "df['away_team'].value_counts().head(25).plot(kind='bar')"
   ]
  },
  {
   "cell_type": "code",
   "execution_count": 6,
   "metadata": {},
   "outputs": [
    {
     "data": {
      "text/plain": [
       "311"
      ]
     },
     "execution_count": 6,
     "metadata": {},
     "output_type": "execute_result"
    }
   ],
   "source": [
    "len(df['home_team'].unique())"
   ]
  },
  {
   "cell_type": "code",
   "execution_count": null,
   "metadata": {},
   "outputs": [],
   "source": []
  },
  {
   "cell_type": "code",
   "execution_count": 11,
   "metadata": {},
   "outputs": [
    {
     "name": "stdout",
     "output_type": "stream",
     "text": [
      "<class 'pandas.core.frame.DataFrame'>\n",
      "RangeIndex: 222 entries, 0 to 221\n",
      "Data columns (total 8 columns):\n",
      " #   Column                     Non-Null Count  Dtype  \n",
      "---  ------                     --------------  -----  \n",
      " 0   code                       222 non-null    object \n",
      " 1   name                       222 non-null    object \n",
      " 2   founded                    222 non-null    int64  \n",
      " 3   FIFA_affiliation           211 non-null    float64\n",
      " 4   confederation_affiliation  222 non-null    int64  \n",
      " 5   regional                   143 non-null    object \n",
      " 6   confederation              222 non-null    object \n",
      " 7   IOC_member                 222 non-null    bool   \n",
      "dtypes: bool(1), float64(1), int64(2), object(4)\n",
      "memory usage: 12.5+ KB\n"
     ]
    },
    {
     "data": {
      "text/html": [
       "<div>\n",
       "<style scoped>\n",
       "    .dataframe tbody tr th:only-of-type {\n",
       "        vertical-align: middle;\n",
       "    }\n",
       "\n",
       "    .dataframe tbody tr th {\n",
       "        vertical-align: top;\n",
       "    }\n",
       "\n",
       "    .dataframe thead th {\n",
       "        text-align: right;\n",
       "    }\n",
       "</style>\n",
       "<table border=\"1\" class=\"dataframe\">\n",
       "  <thead>\n",
       "    <tr style=\"text-align: right;\">\n",
       "      <th></th>\n",
       "      <th>code</th>\n",
       "      <th>name</th>\n",
       "      <th>founded</th>\n",
       "      <th>FIFA_affiliation</th>\n",
       "      <th>confederation_affiliation</th>\n",
       "      <th>regional</th>\n",
       "      <th>confederation</th>\n",
       "      <th>IOC_member</th>\n",
       "    </tr>\n",
       "  </thead>\n",
       "  <tbody>\n",
       "    <tr>\n",
       "      <th>0</th>\n",
       "      <td>AUS</td>\n",
       "      <td>Australia</td>\n",
       "      <td>1961</td>\n",
       "      <td>1963.0</td>\n",
       "      <td>2006</td>\n",
       "      <td>AFF</td>\n",
       "      <td>AFC</td>\n",
       "      <td>True</td>\n",
       "    </tr>\n",
       "    <tr>\n",
       "      <th>1</th>\n",
       "      <td>BRU</td>\n",
       "      <td>Brunei Darussalam</td>\n",
       "      <td>1952</td>\n",
       "      <td>1972.0</td>\n",
       "      <td>1969</td>\n",
       "      <td>AFF</td>\n",
       "      <td>AFC</td>\n",
       "      <td>True</td>\n",
       "    </tr>\n",
       "    <tr>\n",
       "      <th>2</th>\n",
       "      <td>CAM</td>\n",
       "      <td>Cambodia</td>\n",
       "      <td>1933</td>\n",
       "      <td>1954.0</td>\n",
       "      <td>1954</td>\n",
       "      <td>AFF</td>\n",
       "      <td>AFC</td>\n",
       "      <td>True</td>\n",
       "    </tr>\n",
       "    <tr>\n",
       "      <th>3</th>\n",
       "      <td>LAO</td>\n",
       "      <td>Laos</td>\n",
       "      <td>1951</td>\n",
       "      <td>1952.0</td>\n",
       "      <td>1968</td>\n",
       "      <td>AFF</td>\n",
       "      <td>AFC</td>\n",
       "      <td>True</td>\n",
       "    </tr>\n",
       "    <tr>\n",
       "      <th>4</th>\n",
       "      <td>INA</td>\n",
       "      <td>Indonesia</td>\n",
       "      <td>1930</td>\n",
       "      <td>1952.0</td>\n",
       "      <td>1954</td>\n",
       "      <td>AFF</td>\n",
       "      <td>AFC</td>\n",
       "      <td>True</td>\n",
       "    </tr>\n",
       "  </tbody>\n",
       "</table>\n",
       "</div>"
      ],
      "text/plain": [
       "  code               name  founded  FIFA_affiliation  \\\n",
       "0  AUS          Australia     1961            1963.0   \n",
       "1  BRU  Brunei Darussalam     1952            1972.0   \n",
       "2  CAM           Cambodia     1933            1954.0   \n",
       "3  LAO               Laos     1951            1952.0   \n",
       "4  INA          Indonesia     1930            1952.0   \n",
       "\n",
       "   confederation_affiliation regional confederation  IOC_member  \n",
       "0                       2006      AFF           AFC        True  \n",
       "1                       1969      AFF           AFC        True  \n",
       "2                       1954      AFF           AFC        True  \n",
       "3                       1968      AFF           AFC        True  \n",
       "4                       1954      AFF           AFC        True  "
      ]
     },
     "execution_count": 11,
     "metadata": {},
     "output_type": "execute_result"
    }
   ],
   "source": [
    "df2 = pd.read_csv('./data/confederations.csv')\n",
    "df2.info(verbose=True)\n",
    "df2.head()"
   ]
  },
  {
   "cell_type": "code",
   "execution_count": 12,
   "metadata": {},
   "outputs": [
    {
     "data": {
      "text/plain": [
       "222"
      ]
     },
     "execution_count": 12,
     "metadata": {},
     "output_type": "execute_result"
    }
   ],
   "source": [
    "len(df2['name'].unique())"
   ]
  },
  {
   "cell_type": "code",
   "execution_count": 8,
   "metadata": {},
   "outputs": [],
   "source": [
    "df2.country = df2.country.str.title()"
   ]
  },
  {
   "cell_type": "code",
   "execution_count": 9,
   "metadata": {},
   "outputs": [
    {
     "data": {
      "text/plain": [
       "191"
      ]
     },
     "execution_count": 9,
     "metadata": {},
     "output_type": "execute_result"
    }
   ],
   "source": [
    "len(df2['country'].unique())"
   ]
  },
  {
   "cell_type": "code",
   "execution_count": 14,
   "metadata": {},
   "outputs": [
    {
     "data": {
      "text/plain": [
       "<bound method Series.unique of 0              Australia\n",
       "1      Brunei Darussalam\n",
       "2               Cambodia\n",
       "3                   Laos\n",
       "4              Indonesia\n",
       "             ...        \n",
       "217               Sweden\n",
       "218          Switzerland\n",
       "219               Turkey\n",
       "220              Ukraine\n",
       "221                Wales\n",
       "Name: name, Length: 222, dtype: object>"
      ]
     },
     "execution_count": 14,
     "metadata": {},
     "output_type": "execute_result"
    }
   ],
   "source": [
    "df2['name'].unique"
   ]
  },
  {
   "cell_type": "code",
   "execution_count": null,
   "metadata": {},
   "outputs": [],
   "source": []
  },
  {
   "cell_type": "code",
   "execution_count": 27,
   "metadata": {},
   "outputs": [],
   "source": [
    "df = df[df['date'] > '1950-01-01']"
   ]
  },
  {
   "cell_type": "code",
   "execution_count": 30,
   "metadata": {},
   "outputs": [
    {
     "data": {
      "text/plain": [
       "['Kernow',\n",
       " 'Padania',\n",
       " 'Vatican City',\n",
       " 'Brittany',\n",
       " 'Gozo',\n",
       " 'Yorkshire',\n",
       " 'Tibet',\n",
       " 'Rhodes',\n",
       " 'Galicia',\n",
       " 'Madrid',\n",
       " 'Basque Country',\n",
       " 'Yoruba Nation',\n",
       " 'Palau',\n",
       " 'Panjab',\n",
       " 'São Tomé and Príncipe',\n",
       " 'Mayotte',\n",
       " 'United States Virgin Islands',\n",
       " 'Barawa',\n",
       " 'Saarland',\n",
       " 'Western Armenia',\n",
       " 'Western Isles',\n",
       " 'Iraqi Kurdistan',\n",
       " 'Western Sahara',\n",
       " 'Vietnam Republic',\n",
       " 'Isle of Wight',\n",
       " 'Saare County',\n",
       " 'Corsica',\n",
       " 'Yemen DPR',\n",
       " 'Gotland',\n",
       " 'Saint Pierre and Miquelon',\n",
       " 'Provence',\n",
       " 'Chameria',\n",
       " 'Catalonia',\n",
       " 'Andalusia',\n",
       " 'Abkhazia',\n",
       " 'Ellan Vannin',\n",
       " 'Kyrgyzstan',\n",
       " 'Székely Land',\n",
       " 'Occitania',\n",
       " 'Tamil Eelam',\n",
       " 'Republic of St. Pauli',\n",
       " 'Mapuche',\n",
       " 'Sark',\n",
       " 'Biafra',\n",
       " 'Frøya',\n",
       " 'Taiwan',\n",
       " 'Arameans Suryoye',\n",
       " 'Ynys Môn',\n",
       " 'Felvidék',\n",
       " 'Niue',\n",
       " 'North Korea',\n",
       " 'Sápmi',\n",
       " 'Isle of Man',\n",
       " 'Orkney',\n",
       " 'Găgăuzia',\n",
       " 'Monaco',\n",
       " 'South Korea',\n",
       " 'Canary Islands',\n",
       " 'Cascadia',\n",
       " 'Northern Cyprus',\n",
       " 'Parishes of Jersey',\n",
       " 'Guernsey',\n",
       " 'Silesia',\n",
       " 'Wallis Islands and Futuna',\n",
       " 'Alderney',\n",
       " 'Matabeleland',\n",
       " 'Micronesia',\n",
       " 'German DR',\n",
       " 'Brunei',\n",
       " 'Falkland Islands',\n",
       " 'Menorca',\n",
       " 'Chagos Islands',\n",
       " 'Saint Helena',\n",
       " 'County of Nice',\n",
       " 'North Vietnam',\n",
       " 'Åland Islands',\n",
       " 'Raetia',\n",
       " 'Yugoslavia',\n",
       " 'Somaliland',\n",
       " 'Hitra',\n",
       " 'China PR',\n",
       " 'Jersey',\n",
       " 'Aymara',\n",
       " 'Darfur',\n",
       " 'Artsakh',\n",
       " 'Czechoslovakia',\n",
       " 'South Ossetia',\n",
       " 'United Koreans in Japan',\n",
       " 'Western Australia',\n",
       " 'Réunion',\n",
       " 'Romani people',\n",
       " 'Kárpátalja',\n",
       " 'Shetland',\n",
       " 'Greenland',\n",
       " 'Kabylia']"
      ]
     },
     "execution_count": 30,
     "metadata": {},
     "output_type": "execute_result"
    }
   ],
   "source": [
    "countries_not_part_of_fifa = []\n",
    "countries_not_part_of_fifa = list(set(df['home_team'].unique()) - set(df2['name'].unique()))\n",
    "countries_not_part_of_fifa"
   ]
  },
  {
   "cell_type": "code",
   "execution_count": 40,
   "metadata": {},
   "outputs": [
    {
     "data": {
      "text/plain": [
       "95"
      ]
     },
     "execution_count": 40,
     "metadata": {},
     "output_type": "execute_result"
    }
   ],
   "source": [
    "len(countries_not_part_of_fifa)"
   ]
  },
  {
   "cell_type": "code",
   "execution_count": 41,
   "metadata": {},
   "outputs": [
    {
     "data": {
      "text/plain": [
       "['DPR Korea',\n",
       " 'Sao Tome and Principe',\n",
       " 'Korea Republic',\n",
       " 'China',\n",
       " 'Reunion',\n",
       " 'Chinese Taipei',\n",
       " 'Kyrgyz Republic',\n",
       " 'U.S. Virgin Islands']"
      ]
     },
     "execution_count": 41,
     "metadata": {},
     "output_type": "execute_result"
    }
   ],
   "source": [
    "\n",
    "countries_fifa_not_in_matches = list(set(df2['name'].unique()) - set(df['home_team'].unique()))\n",
    "countries_fifa_not_in_matches"
   ]
  },
  {
   "cell_type": "code",
   "execution_count": 31,
   "metadata": {},
   "outputs": [
    {
     "data": {
      "text/plain": [
       "95"
      ]
     },
     "execution_count": 31,
     "metadata": {},
     "output_type": "execute_result"
    }
   ],
   "source": []
  },
  {
   "cell_type": "code",
   "execution_count": null,
   "metadata": {},
   "outputs": [],
   "source": []
  },
  {
   "cell_type": "code",
   "execution_count": 32,
   "metadata": {},
   "outputs": [
    {
     "data": {
      "text/plain": [
       "Mexico                       527\n",
       "Brazil                       524\n",
       "South Korea                  497\n",
       "United States                436\n",
       "Germany                      431\n",
       "                            ... \n",
       "Chameria                       1\n",
       "Saint Helena                   1\n",
       "Madrid                         1\n",
       "Saint Pierre and Miquelon      1\n",
       "Aymara                         1\n",
       "Name: home_team, Length: 309, dtype: int64"
      ]
     },
     "execution_count": 32,
     "metadata": {},
     "output_type": "execute_result"
    }
   ],
   "source": [
    "countries_list_matches = df['home_team'].value_counts()\n",
    "countries_list_matches"
   ]
  },
  {
   "cell_type": "code",
   "execution_count": 33,
   "metadata": {},
   "outputs": [
    {
     "data": {
      "text/plain": [
       "['Mexico',\n",
       " 'Brazil',\n",
       " 'South Korea',\n",
       " 'United States',\n",
       " 'Germany',\n",
       " 'Argentina',\n",
       " 'England',\n",
       " 'France',\n",
       " 'Egypt',\n",
       " 'Malaysia',\n",
       " 'Japan',\n",
       " 'Saudi Arabia',\n",
       " 'Italy',\n",
       " 'Sweden',\n",
       " 'Kenya',\n",
       " 'Netherlands',\n",
       " 'Chile',\n",
       " 'Poland',\n",
       " 'Malawi',\n",
       " 'Denmark',\n",
       " 'Kuwait',\n",
       " 'Spain',\n",
       " 'Indonesia',\n",
       " 'Thailand',\n",
       " 'Hungary',\n",
       " 'Qatar',\n",
       " 'China PR',\n",
       " 'Austria',\n",
       " 'Norway',\n",
       " 'Belgium',\n",
       " 'Tunisia',\n",
       " 'Zambia',\n",
       " 'Switzerland',\n",
       " 'United Arab Emirates',\n",
       " 'Bahrain',\n",
       " 'Morocco',\n",
       " 'Costa Rica',\n",
       " 'Portugal',\n",
       " 'Algeria',\n",
       " 'Russia',\n",
       " 'Republic of Ireland',\n",
       " 'Singapore',\n",
       " 'Ghana',\n",
       " 'Scotland',\n",
       " 'Trinidad and Tobago',\n",
       " 'Romania',\n",
       " 'Iran',\n",
       " 'Iraq',\n",
       " 'Uganda',\n",
       " 'Nigeria',\n",
       " 'El Salvador',\n",
       " 'Ivory Coast',\n",
       " 'Honduras',\n",
       " 'Greece',\n",
       " 'Jamaica',\n",
       " 'Australia',\n",
       " 'Tanzania',\n",
       " 'Oman',\n",
       " 'Cameroon',\n",
       " 'Peru',\n",
       " 'Turkey',\n",
       " 'Uruguay',\n",
       " 'Finland',\n",
       " 'Bulgaria',\n",
       " 'Colombia',\n",
       " 'Israel',\n",
       " 'Senegal',\n",
       " 'Wales',\n",
       " 'South Africa',\n",
       " 'India',\n",
       " 'Paraguay',\n",
       " 'Guatemala',\n",
       " 'Northern Ireland',\n",
       " 'Malta',\n",
       " 'Hong Kong',\n",
       " 'Mali',\n",
       " 'Ethiopia',\n",
       " 'Ecuador',\n",
       " 'Myanmar',\n",
       " 'Jordan',\n",
       " 'Bolivia',\n",
       " 'Iceland',\n",
       " 'Luxembourg',\n",
       " 'Guinea',\n",
       " 'Cyprus',\n",
       " 'Haiti',\n",
       " 'Panama',\n",
       " 'DR Congo',\n",
       " 'Zimbabwe',\n",
       " 'Burkina Faso',\n",
       " 'Libya',\n",
       " 'Congo',\n",
       " 'Estonia',\n",
       " 'Gabon',\n",
       " 'Sudan',\n",
       " 'Angola',\n",
       " 'Canada',\n",
       " 'Albania',\n",
       " 'Venezuela',\n",
       " 'Togo',\n",
       " 'Syria',\n",
       " 'Croatia',\n",
       " 'Czech Republic',\n",
       " 'Mozambique',\n",
       " 'Botswana',\n",
       " 'Czechoslovakia',\n",
       " 'Latvia',\n",
       " 'Fiji',\n",
       " 'Martinique',\n",
       " 'Ukraine',\n",
       " 'Lebanon',\n",
       " 'Barbados',\n",
       " 'Liberia',\n",
       " 'Slovakia',\n",
       " 'Yugoslavia',\n",
       " 'Benin',\n",
       " 'Rwanda',\n",
       " 'Slovenia',\n",
       " 'New Caledonia',\n",
       " 'North Macedonia',\n",
       " 'Lesotho',\n",
       " 'Suriname',\n",
       " 'New Zealand',\n",
       " 'Lithuania',\n",
       " 'Uzbekistan',\n",
       " 'Cambodia',\n",
       " 'German DR',\n",
       " 'Gambia',\n",
       " 'Cuba',\n",
       " 'Azerbaijan',\n",
       " 'Curaçao',\n",
       " 'Faroe Islands',\n",
       " 'Vietnam',\n",
       " 'North Korea',\n",
       " 'Belarus',\n",
       " 'Bangladesh',\n",
       " 'Guadeloupe',\n",
       " 'Georgia',\n",
       " 'Guyana',\n",
       " 'Madagascar',\n",
       " 'Bosnia and Herzegovina',\n",
       " 'Eswatini',\n",
       " 'Serbia',\n",
       " 'Armenia',\n",
       " 'Sierra Leone',\n",
       " 'Moldova',\n",
       " 'Namibia',\n",
       " 'Antigua and Barbuda',\n",
       " 'Mauritius',\n",
       " 'Grenada',\n",
       " 'Niger',\n",
       " 'Liechtenstein',\n",
       " 'Mauritania',\n",
       " 'Kazakhstan',\n",
       " 'Saint Kitts and Nevis',\n",
       " 'Yemen',\n",
       " 'Philippines',\n",
       " 'Andorra',\n",
       " 'Cape Verde',\n",
       " 'Nepal',\n",
       " 'Sri Lanka',\n",
       " 'Dominica',\n",
       " 'San Marino',\n",
       " 'Saint Lucia',\n",
       " 'Bermuda',\n",
       " 'Tahiti',\n",
       " 'Maldives',\n",
       " 'Burundi',\n",
       " 'Guinea-Bissau',\n",
       " 'Solomon Islands',\n",
       " 'Laos',\n",
       " 'Palestine',\n",
       " 'Pakistan',\n",
       " 'Dominican Republic',\n",
       " 'Equatorial Guinea',\n",
       " 'Montenegro',\n",
       " 'French Guiana',\n",
       " 'Gibraltar',\n",
       " 'Vanuatu',\n",
       " 'Tajikistan',\n",
       " 'Saint Vincent and the Grenadines',\n",
       " 'Kyrgyzstan',\n",
       " 'Macau',\n",
       " 'Cayman Islands',\n",
       " 'Turkmenistan',\n",
       " 'Papua New Guinea',\n",
       " 'Zanzibar',\n",
       " 'Chad',\n",
       " 'Nicaragua',\n",
       " 'Central African Republic',\n",
       " 'Puerto Rico',\n",
       " 'Seychelles',\n",
       " 'Vietnam Republic',\n",
       " 'Jersey',\n",
       " 'Guam',\n",
       " 'Somalia',\n",
       " 'Aruba',\n",
       " 'Djibouti',\n",
       " 'Kosovo',\n",
       " 'British Virgin Islands',\n",
       " 'Afghanistan',\n",
       " 'Réunion',\n",
       " 'Belize',\n",
       " 'Guernsey',\n",
       " 'Comoros',\n",
       " 'Taiwan',\n",
       " 'Samoa',\n",
       " 'Greenland',\n",
       " 'Mongolia',\n",
       " 'Basque Country',\n",
       " 'Ynys Môn',\n",
       " 'Brunei',\n",
       " 'Padania',\n",
       " 'Bhutan',\n",
       " 'Åland Islands',\n",
       " 'South Sudan',\n",
       " 'United States Virgin Islands',\n",
       " 'Eritrea',\n",
       " 'Isle of Wight',\n",
       " 'Catalonia',\n",
       " 'Bahamas',\n",
       " 'Tonga',\n",
       " 'American Samoa',\n",
       " 'São Tomé and Príncipe',\n",
       " 'Anguilla',\n",
       " 'Shetland',\n",
       " 'Northern Cyprus',\n",
       " 'Isle of Man',\n",
       " 'Gotland',\n",
       " 'Saint Martin',\n",
       " 'Montserrat',\n",
       " 'Sint Maarten',\n",
       " 'Sápmi',\n",
       " 'Abkhazia',\n",
       " 'Cook Islands',\n",
       " 'Timor-Leste',\n",
       " 'Saare County',\n",
       " 'Turks and Caicos Islands',\n",
       " 'Iraqi Kurdistan',\n",
       " 'Frøya',\n",
       " 'Orkney',\n",
       " 'Tuvalu',\n",
       " 'Andalusia',\n",
       " 'Rhodes',\n",
       " 'Falkland Islands',\n",
       " 'Barawa',\n",
       " 'Menorca',\n",
       " 'Western Isles',\n",
       " 'Northern Mariana Islands',\n",
       " 'Bonaire',\n",
       " 'Székely Land',\n",
       " 'Occitania',\n",
       " 'Kernow',\n",
       " 'Ellan Vannin',\n",
       " 'Corsica',\n",
       " 'United Koreans in Japan',\n",
       " 'Hitra',\n",
       " 'Provence',\n",
       " 'Artsakh',\n",
       " 'South Ossetia',\n",
       " 'Tamil Eelam',\n",
       " 'Alderney',\n",
       " 'Mayotte',\n",
       " 'Saarland',\n",
       " 'Galicia',\n",
       " 'Chagos Islands',\n",
       " 'Brittany',\n",
       " 'Silesia',\n",
       " 'Yorkshire',\n",
       " 'Western Armenia',\n",
       " 'North Vietnam',\n",
       " 'Kárpátalja',\n",
       " 'Kiribati',\n",
       " 'County of Nice',\n",
       " 'Panjab',\n",
       " 'Darfur',\n",
       " 'Canary Islands',\n",
       " 'Tibet',\n",
       " 'Monaco',\n",
       " 'Republic of St. Pauli',\n",
       " 'Găgăuzia',\n",
       " 'Wallis Islands and Futuna',\n",
       " 'Western Sahara',\n",
       " 'Arameans Suryoye',\n",
       " 'Gozo',\n",
       " 'Yoruba Nation',\n",
       " 'Biafra',\n",
       " 'Niue',\n",
       " 'Parishes of Jersey',\n",
       " 'Cascadia',\n",
       " 'Matabeleland',\n",
       " 'Mapuche',\n",
       " 'Yemen DPR',\n",
       " 'Raetia',\n",
       " 'Palau',\n",
       " 'Somaliland',\n",
       " 'Micronesia',\n",
       " 'Felvidék',\n",
       " 'Vatican City',\n",
       " 'Brunei Darussalam',\n",
       " 'Western Australia',\n",
       " 'Romani people',\n",
       " 'Kabylia',\n",
       " 'Sark',\n",
       " 'Chameria',\n",
       " 'Saint Helena',\n",
       " 'Madrid',\n",
       " 'Saint Pierre and Miquelon',\n",
       " 'Aymara']"
      ]
     },
     "execution_count": 33,
     "metadata": {},
     "output_type": "execute_result"
    }
   ],
   "source": [
    "countries = []\n",
    "for value in countries_list_matches.index:\n",
    "    countries.append(value)\n",
    "countries"
   ]
  },
  {
   "cell_type": "code",
   "execution_count": 39,
   "metadata": {},
   "outputs": [
    {
     "name": "stdout",
     "output_type": "stream",
     "text": [
      "South Korea                     497\n",
      "China PR                        334\n",
      "Czechoslovakia                  157\n",
      "Yugoslavia                      140\n",
      "German DR                       132\n",
      "North Korea                     126\n",
      "Kyrgyzstan                       66\n",
      "Vietnam Republic                 49\n",
      "Jersey                           48\n",
      "Réunion                          39\n",
      "Guernsey                         37\n",
      "Taiwan                           34\n",
      "Greenland                        30\n",
      "Ynys Môn                         29\n",
      "Basque Country                   29\n",
      "Padania                          28\n",
      "Brunei                           28\n",
      "Åland Islands                    27\n",
      "United States Virgin Islands     26\n",
      "Isle of Wight                    26\n",
      "Name: home_team, dtype: int64\n"
     ]
    }
   ],
   "source": [
    "print((countries_list_matches.loc[countries_not_part_of_fifa]).sort_values(ascending=False).head(20))"
   ]
  },
  {
   "cell_type": "code",
   "execution_count": null,
   "metadata": {},
   "outputs": [],
   "source": [
    "# Can Manually Change:\n",
    "# Korea Republic -> South Korea"
   ]
  }
 ],
 "metadata": {
  "kernelspec": {
   "display_name": "Python 3.10.7 ('venv': venv)",
   "language": "python",
   "name": "python3"
  },
  "language_info": {
   "codemirror_mode": {
    "name": "ipython",
    "version": 3
   },
   "file_extension": ".py",
   "mimetype": "text/x-python",
   "name": "python",
   "nbconvert_exporter": "python",
   "pygments_lexer": "ipython3",
   "version": "3.10.7"
  },
  "orig_nbformat": 4,
  "vscode": {
   "interpreter": {
    "hash": "64716dcc7f862df0293299df7c5f58d1d6e8be6f933b2ddf3dad2c8d17372c1c"
   }
  }
 },
 "nbformat": 4,
 "nbformat_minor": 2
}
