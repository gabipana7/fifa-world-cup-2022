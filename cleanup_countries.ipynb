{
 "cells": [
  {
   "cell_type": "code",
   "execution_count": 1,
   "metadata": {},
   "outputs": [],
   "source": [
    "import pandas as pd"
   ]
  },
  {
   "cell_type": "code",
   "execution_count": 2,
   "metadata": {},
   "outputs": [
    {
     "data": {
      "text/html": [
       "<div>\n",
       "<style scoped>\n",
       "    .dataframe tbody tr th:only-of-type {\n",
       "        vertical-align: middle;\n",
       "    }\n",
       "\n",
       "    .dataframe tbody tr th {\n",
       "        vertical-align: top;\n",
       "    }\n",
       "\n",
       "    .dataframe thead th {\n",
       "        text-align: right;\n",
       "    }\n",
       "</style>\n",
       "<table border=\"1\" class=\"dataframe\">\n",
       "  <thead>\n",
       "    <tr style=\"text-align: right;\">\n",
       "      <th></th>\n",
       "      <th>match_id</th>\n",
       "      <th>date</th>\n",
       "      <th>home_team</th>\n",
       "      <th>away_team</th>\n",
       "      <th>home_score</th>\n",
       "      <th>away_score</th>\n",
       "      <th>tournament</th>\n",
       "      <th>city</th>\n",
       "      <th>country</th>\n",
       "      <th>neutral</th>\n",
       "    </tr>\n",
       "  </thead>\n",
       "  <tbody>\n",
       "    <tr>\n",
       "      <th>0</th>\n",
       "      <td>1</td>\n",
       "      <td>1872-11-30</td>\n",
       "      <td>Scotland</td>\n",
       "      <td>England</td>\n",
       "      <td>0.0</td>\n",
       "      <td>0.0</td>\n",
       "      <td>Friendly</td>\n",
       "      <td>Glasgow</td>\n",
       "      <td>Scotland</td>\n",
       "      <td>False</td>\n",
       "    </tr>\n",
       "    <tr>\n",
       "      <th>1</th>\n",
       "      <td>2</td>\n",
       "      <td>1873-03-08</td>\n",
       "      <td>England</td>\n",
       "      <td>Scotland</td>\n",
       "      <td>4.0</td>\n",
       "      <td>2.0</td>\n",
       "      <td>Friendly</td>\n",
       "      <td>London</td>\n",
       "      <td>England</td>\n",
       "      <td>False</td>\n",
       "    </tr>\n",
       "    <tr>\n",
       "      <th>2</th>\n",
       "      <td>3</td>\n",
       "      <td>1874-03-07</td>\n",
       "      <td>Scotland</td>\n",
       "      <td>England</td>\n",
       "      <td>2.0</td>\n",
       "      <td>1.0</td>\n",
       "      <td>Friendly</td>\n",
       "      <td>Glasgow</td>\n",
       "      <td>Scotland</td>\n",
       "      <td>False</td>\n",
       "    </tr>\n",
       "    <tr>\n",
       "      <th>3</th>\n",
       "      <td>4</td>\n",
       "      <td>1875-03-06</td>\n",
       "      <td>England</td>\n",
       "      <td>Scotland</td>\n",
       "      <td>2.0</td>\n",
       "      <td>2.0</td>\n",
       "      <td>Friendly</td>\n",
       "      <td>London</td>\n",
       "      <td>England</td>\n",
       "      <td>False</td>\n",
       "    </tr>\n",
       "    <tr>\n",
       "      <th>4</th>\n",
       "      <td>5</td>\n",
       "      <td>1876-03-04</td>\n",
       "      <td>Scotland</td>\n",
       "      <td>England</td>\n",
       "      <td>3.0</td>\n",
       "      <td>0.0</td>\n",
       "      <td>Friendly</td>\n",
       "      <td>Glasgow</td>\n",
       "      <td>Scotland</td>\n",
       "      <td>False</td>\n",
       "    </tr>\n",
       "  </tbody>\n",
       "</table>\n",
       "</div>"
      ],
      "text/plain": [
       "   match_id        date home_team away_team  home_score  away_score  \\\n",
       "0         1  1872-11-30  Scotland   England         0.0         0.0   \n",
       "1         2  1873-03-08   England  Scotland         4.0         2.0   \n",
       "2         3  1874-03-07  Scotland   England         2.0         1.0   \n",
       "3         4  1875-03-06   England  Scotland         2.0         2.0   \n",
       "4         5  1876-03-04  Scotland   England         3.0         0.0   \n",
       "\n",
       "  tournament     city   country  neutral  \n",
       "0   Friendly  Glasgow  Scotland    False  \n",
       "1   Friendly   London   England    False  \n",
       "2   Friendly  Glasgow  Scotland    False  \n",
       "3   Friendly   London   England    False  \n",
       "4   Friendly  Glasgow  Scotland    False  "
      ]
     },
     "execution_count": 2,
     "metadata": {},
     "output_type": "execute_result"
    }
   ],
   "source": [
    "matches = pd.read_csv('./data/matches.csv')\n",
    "matches.head()"
   ]
  },
  {
   "cell_type": "code",
   "execution_count": 4,
   "metadata": {},
   "outputs": [
    {
     "data": {
      "text/html": [
       "<div>\n",
       "<style scoped>\n",
       "    .dataframe tbody tr th:only-of-type {\n",
       "        vertical-align: middle;\n",
       "    }\n",
       "\n",
       "    .dataframe tbody tr th {\n",
       "        vertical-align: top;\n",
       "    }\n",
       "\n",
       "    .dataframe thead th {\n",
       "        text-align: right;\n",
       "    }\n",
       "</style>\n",
       "<table border=\"1\" class=\"dataframe\">\n",
       "  <thead>\n",
       "    <tr style=\"text-align: right;\">\n",
       "      <th></th>\n",
       "      <th>Country</th>\n",
       "      <th>iso-alpha3</th>\n",
       "      <th>Mcode-49</th>\n",
       "      <th>Region1</th>\n",
       "      <th>Region2</th>\n",
       "      <th>Continent</th>\n",
       "    </tr>\n",
       "  </thead>\n",
       "  <tbody>\n",
       "    <tr>\n",
       "      <th>0</th>\n",
       "      <td>Afghanistan</td>\n",
       "      <td>AFG</td>\n",
       "      <td>4.0</td>\n",
       "      <td>Southern Asia</td>\n",
       "      <td>NaN</td>\n",
       "      <td>Asia</td>\n",
       "    </tr>\n",
       "    <tr>\n",
       "      <th>1</th>\n",
       "      <td>Åland Islands</td>\n",
       "      <td>ALA</td>\n",
       "      <td>248.0</td>\n",
       "      <td>Northern Europe</td>\n",
       "      <td>NaN</td>\n",
       "      <td>Europe</td>\n",
       "    </tr>\n",
       "    <tr>\n",
       "      <th>2</th>\n",
       "      <td>Albania</td>\n",
       "      <td>ALB</td>\n",
       "      <td>8.0</td>\n",
       "      <td>Southern Europe</td>\n",
       "      <td>NaN</td>\n",
       "      <td>Europe</td>\n",
       "    </tr>\n",
       "    <tr>\n",
       "      <th>3</th>\n",
       "      <td>Algeria</td>\n",
       "      <td>DZA</td>\n",
       "      <td>12.0</td>\n",
       "      <td>Northern Africa</td>\n",
       "      <td>NaN</td>\n",
       "      <td>Africa</td>\n",
       "    </tr>\n",
       "    <tr>\n",
       "      <th>4</th>\n",
       "      <td>American Samoa</td>\n",
       "      <td>ASM</td>\n",
       "      <td>16.0</td>\n",
       "      <td>Polynesia</td>\n",
       "      <td>NaN</td>\n",
       "      <td>Oceania</td>\n",
       "    </tr>\n",
       "  </tbody>\n",
       "</table>\n",
       "</div>"
      ],
      "text/plain": [
       "          Country iso-alpha3  Mcode-49          Region1 Region2 Continent\n",
       "0     Afghanistan        AFG       4.0    Southern Asia     NaN      Asia\n",
       "1   Åland Islands        ALA     248.0  Northern Europe     NaN    Europe\n",
       "2         Albania        ALB       8.0  Southern Europe     NaN    Europe\n",
       "3         Algeria        DZA      12.0  Northern Africa     NaN    Africa\n",
       "4  American Samoa        ASM      16.0        Polynesia     NaN   Oceania"
      ]
     },
     "execution_count": 4,
     "metadata": {},
     "output_type": "execute_result"
    }
   ],
   "source": [
    "countries = pd.read_csv('./data/countries.csv')\n",
    "countries.head()"
   ]
  },
  {
   "cell_type": "code",
   "execution_count": 8,
   "metadata": {},
   "outputs": [
    {
     "data": {
      "text/plain": [
       "Brazil          591\n",
       "Argentina       566\n",
       "Mexico          548\n",
       "Germany         525\n",
       "England         522\n",
       "               ... \n",
       "Chameria          1\n",
       "Saint Helena      1\n",
       "Madrid            1\n",
       "Aymara            1\n",
       "Sark              1\n",
       "Name: home_team, Length: 311, dtype: int64"
      ]
     },
     "execution_count": 8,
     "metadata": {},
     "output_type": "execute_result"
    }
   ],
   "source": [
    "matches['home_team'].value_counts()"
   ]
  },
  {
   "cell_type": "code",
   "execution_count": 14,
   "metadata": {},
   "outputs": [
    {
     "data": {
      "text/plain": [
       "<AxesSubplot: >"
      ]
     },
     "execution_count": 14,
     "metadata": {},
     "output_type": "execute_result"
    },
    {
     "data": {
      "image/png": "[encoded data removed]",
      "text/plain": [
       "<Figure size 640x480 with 1 Axes>"
      ]
     },
     "metadata": {},
     "output_type": "display_data"
    }
   ],
   "source": [
    "matches['home_team'].value_counts().plot(kind='bar')"
   ]
  },
  {
   "cell_type": "code",
   "execution_count": 9,
   "metadata": {},
   "outputs": [
    {
     "data": {
      "text/plain": [
       "Uruguay          558\n",
       "Sweden           547\n",
       "England          523\n",
       "Hungary          491\n",
       "Paraguay         474\n",
       "                ... \n",
       "Barawa             1\n",
       "Surrey             1\n",
       "Central Spain      1\n",
       "Andalusia          1\n",
       "Aymara             1\n",
       "Name: away_team, Length: 306, dtype: int64"
      ]
     },
     "execution_count": 9,
     "metadata": {},
     "output_type": "execute_result"
    }
   ],
   "source": [
    "matches['away_team'].value_counts()"
   ]
  },
  {
   "cell_type": "code",
   "execution_count": 11,
   "metadata": {},
   "outputs": [
    {
     "data": {
      "text/plain": [
       "Afghanistan         1\n",
       "Papua New Guinea    1\n",
       "New Zealand         1\n",
       "Nicaragua           1\n",
       "Niger               1\n",
       "                   ..\n",
       "Gibraltar           1\n",
       "Greece              1\n",
       "Greenland           1\n",
       "Grenada             1\n",
       "Zimbabwe            1\n",
       "Name: Country, Length: 255, dtype: int64"
      ]
     },
     "execution_count": 11,
     "metadata": {},
     "output_type": "execute_result"
    }
   ],
   "source": [
    "countries['Country'].value_counts()"
   ]
  },
  {
   "cell_type": "code",
   "execution_count": null,
   "metadata": {},
   "outputs": [],
   "source": []
  },
  {
   "cell_type": "code",
   "execution_count": 20,
   "metadata": {},
   "outputs": [],
   "source": [
    "matches_filtered = matches[matches['date'] > '1950-01-01']"
   ]
  },
  {
   "cell_type": "code",
   "execution_count": 21,
   "metadata": {},
   "outputs": [
    {
     "data": {
      "text/html": [
       "<div>\n",
       "<style scoped>\n",
       "    .dataframe tbody tr th:only-of-type {\n",
       "        vertical-align: middle;\n",
       "    }\n",
       "\n",
       "    .dataframe tbody tr th {\n",
       "        vertical-align: top;\n",
       "    }\n",
       "\n",
       "    .dataframe thead th {\n",
       "        text-align: right;\n",
       "    }\n",
       "</style>\n",
       "<table border=\"1\" class=\"dataframe\">\n",
       "  <thead>\n",
       "    <tr style=\"text-align: right;\">\n",
       "      <th></th>\n",
       "      <th>match_id</th>\n",
       "      <th>date</th>\n",
       "      <th>home_team</th>\n",
       "      <th>away_team</th>\n",
       "      <th>home_score</th>\n",
       "      <th>away_score</th>\n",
       "      <th>tournament</th>\n",
       "      <th>city</th>\n",
       "      <th>country</th>\n",
       "      <th>neutral</th>\n",
       "    </tr>\n",
       "  </thead>\n",
       "  <tbody>\n",
       "    <tr>\n",
       "      <th>3077</th>\n",
       "      <td>3078</td>\n",
       "      <td>1950-01-24</td>\n",
       "      <td>Zambia</td>\n",
       "      <td>DR Congo</td>\n",
       "      <td>1.0</td>\n",
       "      <td>0.0</td>\n",
       "      <td>Friendly</td>\n",
       "      <td>Kitwe</td>\n",
       "      <td>Northern Rhodesia</td>\n",
       "      <td>False</td>\n",
       "    </tr>\n",
       "    <tr>\n",
       "      <th>3078</th>\n",
       "      <td>3079</td>\n",
       "      <td>1950-02-17</td>\n",
       "      <td>Egypt</td>\n",
       "      <td>Greece</td>\n",
       "      <td>2.0</td>\n",
       "      <td>0.0</td>\n",
       "      <td>Friendly</td>\n",
       "      <td>Cairo</td>\n",
       "      <td>Egypt</td>\n",
       "      <td>False</td>\n",
       "    </tr>\n",
       "    <tr>\n",
       "      <th>3079</th>\n",
       "      <td>3080</td>\n",
       "      <td>1950-02-26</td>\n",
       "      <td>Bolivia</td>\n",
       "      <td>Chile</td>\n",
       "      <td>2.0</td>\n",
       "      <td>0.0</td>\n",
       "      <td>Friendly</td>\n",
       "      <td>La Paz</td>\n",
       "      <td>Bolivia</td>\n",
       "      <td>False</td>\n",
       "    </tr>\n",
       "    <tr>\n",
       "      <th>3080</th>\n",
       "      <td>3081</td>\n",
       "      <td>1950-02-26</td>\n",
       "      <td>Croatia</td>\n",
       "      <td>Serbia</td>\n",
       "      <td>4.0</td>\n",
       "      <td>1.0</td>\n",
       "      <td>Friendly</td>\n",
       "      <td>Zagreb</td>\n",
       "      <td>Yugoslavia</td>\n",
       "      <td>False</td>\n",
       "    </tr>\n",
       "    <tr>\n",
       "      <th>3081</th>\n",
       "      <td>3082</td>\n",
       "      <td>1950-03-05</td>\n",
       "      <td>Italy</td>\n",
       "      <td>Belgium</td>\n",
       "      <td>3.0</td>\n",
       "      <td>1.0</td>\n",
       "      <td>Friendly</td>\n",
       "      <td>Bologna</td>\n",
       "      <td>Italy</td>\n",
       "      <td>False</td>\n",
       "    </tr>\n",
       "    <tr>\n",
       "      <th>...</th>\n",
       "      <td>...</td>\n",
       "      <td>...</td>\n",
       "      <td>...</td>\n",
       "      <td>...</td>\n",
       "      <td>...</td>\n",
       "      <td>...</td>\n",
       "      <td>...</td>\n",
       "      <td>...</td>\n",
       "      <td>...</td>\n",
       "      <td>...</td>\n",
       "    </tr>\n",
       "    <tr>\n",
       "      <th>44159</th>\n",
       "      <td>44160</td>\n",
       "      <td>2022-11-21</td>\n",
       "      <td>Senegal</td>\n",
       "      <td>Netherlands</td>\n",
       "      <td>0.0</td>\n",
       "      <td>2.0</td>\n",
       "      <td>FIFA World Cup</td>\n",
       "      <td>Doha</td>\n",
       "      <td>Qatar</td>\n",
       "      <td>True</td>\n",
       "    </tr>\n",
       "    <tr>\n",
       "      <th>44160</th>\n",
       "      <td>44161</td>\n",
       "      <td>2022-11-21</td>\n",
       "      <td>England</td>\n",
       "      <td>Iran</td>\n",
       "      <td>6.0</td>\n",
       "      <td>2.0</td>\n",
       "      <td>FIFA World Cup</td>\n",
       "      <td>Al Rayyan</td>\n",
       "      <td>Qatar</td>\n",
       "      <td>True</td>\n",
       "    </tr>\n",
       "    <tr>\n",
       "      <th>44161</th>\n",
       "      <td>44162</td>\n",
       "      <td>2022-11-21</td>\n",
       "      <td>United States</td>\n",
       "      <td>Wales</td>\n",
       "      <td>1.0</td>\n",
       "      <td>1.0</td>\n",
       "      <td>FIFA World Cup</td>\n",
       "      <td>Al Rayyan</td>\n",
       "      <td>Qatar</td>\n",
       "      <td>True</td>\n",
       "    </tr>\n",
       "    <tr>\n",
       "      <th>44162</th>\n",
       "      <td>44163</td>\n",
       "      <td>2022-11-22</td>\n",
       "      <td>Argentina</td>\n",
       "      <td>Saudi Arabia</td>\n",
       "      <td>1.0</td>\n",
       "      <td>2.0</td>\n",
       "      <td>FIFA World Cup</td>\n",
       "      <td>Lusail</td>\n",
       "      <td>Qatar</td>\n",
       "      <td>True</td>\n",
       "    </tr>\n",
       "    <tr>\n",
       "      <th>44163</th>\n",
       "      <td>44165</td>\n",
       "      <td>2022-11-22</td>\n",
       "      <td>Denmark</td>\n",
       "      <td>Tunisia</td>\n",
       "      <td>0.0</td>\n",
       "      <td>0.0</td>\n",
       "      <td>FIFA World Cup</td>\n",
       "      <td>Al Rayyan</td>\n",
       "      <td>Qatar</td>\n",
       "      <td>True</td>\n",
       "    </tr>\n",
       "  </tbody>\n",
       "</table>\n",
       "<p>41087 rows × 10 columns</p>\n",
       "</div>"
      ],
      "text/plain": [
       "       match_id        date      home_team     away_team  home_score  \\\n",
       "3077       3078  1950-01-24         Zambia      DR Congo         1.0   \n",
       "3078       3079  1950-02-17          Egypt        Greece         2.0   \n",
       "3079       3080  1950-02-26        Bolivia         Chile         2.0   \n",
       "3080       3081  1950-02-26        Croatia        Serbia         4.0   \n",
       "3081       3082  1950-03-05          Italy       Belgium         3.0   \n",
       "...         ...         ...            ...           ...         ...   \n",
       "44159     44160  2022-11-21        Senegal   Netherlands         0.0   \n",
       "44160     44161  2022-11-21        England          Iran         6.0   \n",
       "44161     44162  2022-11-21  United States         Wales         1.0   \n",
       "44162     44163  2022-11-22      Argentina  Saudi Arabia         1.0   \n",
       "44163     44165  2022-11-22        Denmark       Tunisia         0.0   \n",
       "\n",
       "       away_score      tournament       city            country  neutral  \n",
       "3077          0.0        Friendly      Kitwe  Northern Rhodesia    False  \n",
       "3078          0.0        Friendly      Cairo              Egypt    False  \n",
       "3079          0.0        Friendly     La Paz            Bolivia    False  \n",
       "3080          1.0        Friendly     Zagreb         Yugoslavia    False  \n",
       "3081          1.0        Friendly    Bologna              Italy    False  \n",
       "...           ...             ...        ...                ...      ...  \n",
       "44159         2.0  FIFA World Cup       Doha              Qatar     True  \n",
       "44160         2.0  FIFA World Cup  Al Rayyan              Qatar     True  \n",
       "44161         1.0  FIFA World Cup  Al Rayyan              Qatar     True  \n",
       "44162         2.0  FIFA World Cup     Lusail              Qatar     True  \n",
       "44163         0.0  FIFA World Cup  Al Rayyan              Qatar     True  \n",
       "\n",
       "[41087 rows x 10 columns]"
      ]
     },
     "execution_count": 21,
     "metadata": {},
     "output_type": "execute_result"
    }
   ],
   "source": [
    "matches_filtered"
   ]
  },
  {
   "cell_type": "code",
   "execution_count": 35,
   "metadata": {},
   "outputs": [],
   "source": [
    "countries_list_matches = matches_filtered['home_team'].value_counts()"
   ]
  },
  {
   "cell_type": "code",
   "execution_count": 74,
   "metadata": {},
   "outputs": [
    {
     "data": {
      "text/plain": [
       "Mexico                       527\n",
       "Brazil                       524\n",
       "South Korea                  497\n",
       "United States                436\n",
       "Germany                      431\n",
       "                            ... \n",
       "Chameria                       1\n",
       "Saint Helena                   1\n",
       "Madrid                         1\n",
       "Saint Pierre and Miquelon      1\n",
       "Aymara                         1\n",
       "Name: home_team, Length: 309, dtype: int64"
      ]
     },
     "execution_count": 74,
     "metadata": {},
     "output_type": "execute_result"
    }
   ],
   "source": [
    "countries_list_matches"
   ]
  },
  {
   "cell_type": "code",
   "execution_count": 75,
   "metadata": {},
   "outputs": [],
   "source": [
    "countries_list_matches_sorted = countries_list_matches.sort_values()"
   ]
  },
  {
   "cell_type": "code",
   "execution_count": 80,
   "metadata": {},
   "outputs": [
    {
     "data": {
      "text/plain": [
       "Felvidék                     2\n",
       "Vatican City                 2\n",
       "Brunei Darussalam            2\n",
       "Yemen DPR                    2\n",
       "Wallis Islands and Futuna    3\n",
       "Găgăuzia                     3\n",
       "Arameans Suryoye             3\n",
       "Gozo                         3\n",
       "Western Sahara               3\n",
       "Republic of St. Pauli        4\n",
       "Monaco                       4\n",
       "Tibet                        4\n",
       "Canary Islands               4\n",
       "Darfur                       4\n",
       "Panjab                       4\n",
       "County of Nice               4\n",
       "Galicia                      5\n",
       "Chagos Islands               5\n",
       "Silesia                      5\n",
       "Brittany                     5\n",
       "Name: home_team, dtype: int64"
      ]
     },
     "execution_count": 80,
     "metadata": {},
     "output_type": "execute_result"
    }
   ],
   "source": [
    "countries_list_matches_sorted[20:40]\n"
   ]
  },
  {
   "cell_type": "code",
   "execution_count": 81,
   "metadata": {},
   "outputs": [
    {
     "data": {
      "text/plain": [
       "Western Armenia              5\n",
       "North Vietnam                5\n",
       "Kárpátalja                   5\n",
       "Kiribati                     5\n",
       "County of Nice               4\n",
       "Panjab                       4\n",
       "Darfur                       4\n",
       "Canary Islands               4\n",
       "Tibet                        4\n",
       "Monaco                       4\n",
       "Republic of St. Pauli        4\n",
       "Găgăuzia                     3\n",
       "Wallis Islands and Futuna    3\n",
       "Western Sahara               3\n",
       "Arameans Suryoye             3\n",
       "Gozo                         3\n",
       "Yoruba Nation                2\n",
       "Biafra                       2\n",
       "Niue                         2\n",
       "Parishes of Jersey           2\n",
       "Name: home_team, dtype: int64"
      ]
     },
     "execution_count": 81,
     "metadata": {},
     "output_type": "execute_result"
    }
   ],
   "source": [
    "countries_list_matches[-40:-20]"
   ]
  },
  {
   "cell_type": "code",
   "execution_count": 72,
   "metadata": {},
   "outputs": [
    {
     "data": {
      "text/plain": [
       "Brunei Darussalam            2\n",
       "Western Australia            1\n",
       "Romani people                1\n",
       "Kabylia                      1\n",
       "Sark                         1\n",
       "Chameria                     1\n",
       "Saint Helena                 1\n",
       "Madrid                       1\n",
       "Saint Pierre and Miquelon    1\n",
       "Aymara                       1\n",
       "Name: home_team, dtype: int64"
      ]
     },
     "execution_count": 72,
     "metadata": {},
     "output_type": "execute_result"
    }
   ],
   "source": [
    "countries_list_matches[-10:]"
   ]
  },
  {
   "cell_type": "code",
   "execution_count": 73,
   "metadata": {},
   "outputs": [
    {
     "data": {
      "text/plain": [
       "Aymara                         1\n",
       "Western Australia              1\n",
       "Romani people                  1\n",
       "Kabylia                        1\n",
       "Saint Pierre and Miquelon      1\n",
       "                            ... \n",
       "Germany                      431\n",
       "United States                436\n",
       "South Korea                  497\n",
       "Brazil                       524\n",
       "Mexico                       527\n",
       "Name: home_team, Length: 309, dtype: int64"
      ]
     },
     "execution_count": 73,
     "metadata": {},
     "output_type": "execute_result"
    }
   ],
   "source": []
  },
  {
   "cell_type": "code",
   "execution_count": 37,
   "metadata": {},
   "outputs": [],
   "source": [
    "small_countries_list = countries_list_matches[-70:].index"
   ]
  },
  {
   "cell_type": "code",
   "execution_count": 42,
   "metadata": {},
   "outputs": [
    {
     "data": {
      "text/plain": [
       "['Frøya',\n",
       " 'Orkney',\n",
       " 'Tuvalu',\n",
       " 'Andalusia',\n",
       " 'Rhodes',\n",
       " 'Falkland Islands',\n",
       " 'Barawa',\n",
       " 'Menorca',\n",
       " 'Western Isles',\n",
       " 'Northern Mariana Islands',\n",
       " 'Bonaire',\n",
       " 'Székely Land',\n",
       " 'Occitania',\n",
       " 'Kernow',\n",
       " 'Ellan Vannin',\n",
       " 'Corsica',\n",
       " 'United Koreans in Japan',\n",
       " 'Hitra',\n",
       " 'Provence',\n",
       " 'Artsakh',\n",
       " 'South Ossetia',\n",
       " 'Tamil Eelam',\n",
       " 'Alderney',\n",
       " 'Mayotte',\n",
       " 'Saarland',\n",
       " 'Galicia',\n",
       " 'Chagos Islands',\n",
       " 'Brittany',\n",
       " 'Silesia',\n",
       " 'Yorkshire',\n",
       " 'Western Armenia',\n",
       " 'North Vietnam',\n",
       " 'Kárpátalja',\n",
       " 'Kiribati',\n",
       " 'County of Nice',\n",
       " 'Panjab',\n",
       " 'Darfur',\n",
       " 'Canary Islands',\n",
       " 'Tibet',\n",
       " 'Monaco',\n",
       " 'Republic of St. Pauli',\n",
       " 'Găgăuzia',\n",
       " 'Wallis Islands and Futuna',\n",
       " 'Western Sahara',\n",
       " 'Arameans Suryoye',\n",
       " 'Gozo',\n",
       " 'Yoruba Nation',\n",
       " 'Biafra',\n",
       " 'Niue',\n",
       " 'Parishes of Jersey',\n",
       " 'Cascadia',\n",
       " 'Matabeleland',\n",
       " 'Mapuche',\n",
       " 'Yemen DPR',\n",
       " 'Raetia',\n",
       " 'Palau',\n",
       " 'Somaliland',\n",
       " 'Micronesia',\n",
       " 'Felvidék',\n",
       " 'Vatican City',\n",
       " 'Brunei Darussalam',\n",
       " 'Western Australia',\n",
       " 'Romani people',\n",
       " 'Kabylia',\n",
       " 'Sark',\n",
       " 'Chameria',\n",
       " 'Saint Helena',\n",
       " 'Madrid',\n",
       " 'Saint Pierre and Miquelon',\n",
       " 'Aymara']"
      ]
     },
     "execution_count": 42,
     "metadata": {},
     "output_type": "execute_result"
    }
   ],
   "source": [
    "nonimportant_countries = []\n",
    "for value in small_countries_list:\n",
    "    nonimportant_countries.append(value)\n",
    "nonimportant_countries"
   ]
  },
  {
   "cell_type": "code",
   "execution_count": 55,
   "metadata": {},
   "outputs": [],
   "source": [
    "indexes = matches_filtered[matches_filtered['home_team'].isin(nonimportant_countries)].index"
   ]
  },
  {
   "cell_type": "code",
   "execution_count": 56,
   "metadata": {},
   "outputs": [
    {
     "data": {
      "text/plain": [
       "Int64Index([ 3378,  3486,  3539,  3549,  3553,  3556,  3580,  3620,  3658,\n",
       "             3714,\n",
       "            ...\n",
       "            43611, 43612, 43615, 43731, 43898, 43915, 43916, 43917, 43921,\n",
       "            44022],\n",
       "           dtype='int64', length=355)"
      ]
     },
     "execution_count": 56,
     "metadata": {},
     "output_type": "execute_result"
    }
   ],
   "source": [
    "indexes"
   ]
  },
  {
   "cell_type": "code",
   "execution_count": 57,
   "metadata": {},
   "outputs": [],
   "source": [
    "total = 0\n",
    "for value in countries_list_matches[-70:]:\n",
    "    total +=value"
   ]
  },
  {
   "cell_type": "code",
   "execution_count": 58,
   "metadata": {},
   "outputs": [
    {
     "data": {
      "text/plain": [
       "355"
      ]
     },
     "execution_count": 58,
     "metadata": {},
     "output_type": "execute_result"
    }
   ],
   "source": [
    "total"
   ]
  },
  {
   "cell_type": "code",
   "execution_count": 59,
   "metadata": {},
   "outputs": [],
   "source": [
    "matches_filtered_no_small_countries = matches_filtered.drop(indexes)"
   ]
  },
  {
   "cell_type": "code",
   "execution_count": 62,
   "metadata": {},
   "outputs": [
    {
     "name": "stdout",
     "output_type": "stream",
     "text": [
      "(41087, 10)\n",
      "(40732, 10)\n"
     ]
    }
   ],
   "source": [
    "print(matches_filtered.shape)\n",
    "print(matches_filtered_no_small_countries.shape)"
   ]
  },
  {
   "cell_type": "code",
   "execution_count": 54,
   "metadata": {},
   "outputs": [
    {
     "data": {
      "text/html": [
       "<div>\n",
       "<style scoped>\n",
       "    .dataframe tbody tr th:only-of-type {\n",
       "        vertical-align: middle;\n",
       "    }\n",
       "\n",
       "    .dataframe tbody tr th {\n",
       "        vertical-align: top;\n",
       "    }\n",
       "\n",
       "    .dataframe thead th {\n",
       "        text-align: right;\n",
       "    }\n",
       "</style>\n",
       "<table border=\"1\" class=\"dataframe\">\n",
       "  <thead>\n",
       "    <tr style=\"text-align: right;\">\n",
       "      <th></th>\n",
       "      <th>match_id</th>\n",
       "      <th>date</th>\n",
       "      <th>home_team</th>\n",
       "      <th>away_team</th>\n",
       "      <th>home_score</th>\n",
       "      <th>away_score</th>\n",
       "      <th>tournament</th>\n",
       "      <th>city</th>\n",
       "      <th>country</th>\n",
       "      <th>neutral</th>\n",
       "    </tr>\n",
       "  </thead>\n",
       "  <tbody>\n",
       "    <tr>\n",
       "      <th>3077</th>\n",
       "      <td>3078</td>\n",
       "      <td>1950-01-24</td>\n",
       "      <td>Zambia</td>\n",
       "      <td>DR Congo</td>\n",
       "      <td>1.0</td>\n",
       "      <td>0.0</td>\n",
       "      <td>Friendly</td>\n",
       "      <td>Kitwe</td>\n",
       "      <td>Northern Rhodesia</td>\n",
       "      <td>False</td>\n",
       "    </tr>\n",
       "    <tr>\n",
       "      <th>3078</th>\n",
       "      <td>3079</td>\n",
       "      <td>1950-02-17</td>\n",
       "      <td>Egypt</td>\n",
       "      <td>Greece</td>\n",
       "      <td>2.0</td>\n",
       "      <td>0.0</td>\n",
       "      <td>Friendly</td>\n",
       "      <td>Cairo</td>\n",
       "      <td>Egypt</td>\n",
       "      <td>False</td>\n",
       "    </tr>\n",
       "    <tr>\n",
       "      <th>3079</th>\n",
       "      <td>3080</td>\n",
       "      <td>1950-02-26</td>\n",
       "      <td>Bolivia</td>\n",
       "      <td>Chile</td>\n",
       "      <td>2.0</td>\n",
       "      <td>0.0</td>\n",
       "      <td>Friendly</td>\n",
       "      <td>La Paz</td>\n",
       "      <td>Bolivia</td>\n",
       "      <td>False</td>\n",
       "    </tr>\n",
       "    <tr>\n",
       "      <th>3080</th>\n",
       "      <td>3081</td>\n",
       "      <td>1950-02-26</td>\n",
       "      <td>Croatia</td>\n",
       "      <td>Serbia</td>\n",
       "      <td>4.0</td>\n",
       "      <td>1.0</td>\n",
       "      <td>Friendly</td>\n",
       "      <td>Zagreb</td>\n",
       "      <td>Yugoslavia</td>\n",
       "      <td>False</td>\n",
       "    </tr>\n",
       "    <tr>\n",
       "      <th>3081</th>\n",
       "      <td>3082</td>\n",
       "      <td>1950-03-05</td>\n",
       "      <td>Italy</td>\n",
       "      <td>Belgium</td>\n",
       "      <td>3.0</td>\n",
       "      <td>1.0</td>\n",
       "      <td>Friendly</td>\n",
       "      <td>Bologna</td>\n",
       "      <td>Italy</td>\n",
       "      <td>False</td>\n",
       "    </tr>\n",
       "    <tr>\n",
       "      <th>...</th>\n",
       "      <td>...</td>\n",
       "      <td>...</td>\n",
       "      <td>...</td>\n",
       "      <td>...</td>\n",
       "      <td>...</td>\n",
       "      <td>...</td>\n",
       "      <td>...</td>\n",
       "      <td>...</td>\n",
       "      <td>...</td>\n",
       "      <td>...</td>\n",
       "    </tr>\n",
       "    <tr>\n",
       "      <th>44159</th>\n",
       "      <td>44160</td>\n",
       "      <td>2022-11-21</td>\n",
       "      <td>Senegal</td>\n",
       "      <td>Netherlands</td>\n",
       "      <td>0.0</td>\n",
       "      <td>2.0</td>\n",
       "      <td>FIFA World Cup</td>\n",
       "      <td>Doha</td>\n",
       "      <td>Qatar</td>\n",
       "      <td>True</td>\n",
       "    </tr>\n",
       "    <tr>\n",
       "      <th>44160</th>\n",
       "      <td>44161</td>\n",
       "      <td>2022-11-21</td>\n",
       "      <td>England</td>\n",
       "      <td>Iran</td>\n",
       "      <td>6.0</td>\n",
       "      <td>2.0</td>\n",
       "      <td>FIFA World Cup</td>\n",
       "      <td>Al Rayyan</td>\n",
       "      <td>Qatar</td>\n",
       "      <td>True</td>\n",
       "    </tr>\n",
       "    <tr>\n",
       "      <th>44161</th>\n",
       "      <td>44162</td>\n",
       "      <td>2022-11-21</td>\n",
       "      <td>United States</td>\n",
       "      <td>Wales</td>\n",
       "      <td>1.0</td>\n",
       "      <td>1.0</td>\n",
       "      <td>FIFA World Cup</td>\n",
       "      <td>Al Rayyan</td>\n",
       "      <td>Qatar</td>\n",
       "      <td>True</td>\n",
       "    </tr>\n",
       "    <tr>\n",
       "      <th>44162</th>\n",
       "      <td>44163</td>\n",
       "      <td>2022-11-22</td>\n",
       "      <td>Argentina</td>\n",
       "      <td>Saudi Arabia</td>\n",
       "      <td>1.0</td>\n",
       "      <td>2.0</td>\n",
       "      <td>FIFA World Cup</td>\n",
       "      <td>Lusail</td>\n",
       "      <td>Qatar</td>\n",
       "      <td>True</td>\n",
       "    </tr>\n",
       "    <tr>\n",
       "      <th>44163</th>\n",
       "      <td>44165</td>\n",
       "      <td>2022-11-22</td>\n",
       "      <td>Denmark</td>\n",
       "      <td>Tunisia</td>\n",
       "      <td>0.0</td>\n",
       "      <td>0.0</td>\n",
       "      <td>FIFA World Cup</td>\n",
       "      <td>Al Rayyan</td>\n",
       "      <td>Qatar</td>\n",
       "      <td>True</td>\n",
       "    </tr>\n",
       "  </tbody>\n",
       "</table>\n",
       "<p>41087 rows × 10 columns</p>\n",
       "</div>"
      ],
      "text/plain": [
       "       match_id        date      home_team     away_team  home_score  \\\n",
       "3077       3078  1950-01-24         Zambia      DR Congo         1.0   \n",
       "3078       3079  1950-02-17          Egypt        Greece         2.0   \n",
       "3079       3080  1950-02-26        Bolivia         Chile         2.0   \n",
       "3080       3081  1950-02-26        Croatia        Serbia         4.0   \n",
       "3081       3082  1950-03-05          Italy       Belgium         3.0   \n",
       "...         ...         ...            ...           ...         ...   \n",
       "44159     44160  2022-11-21        Senegal   Netherlands         0.0   \n",
       "44160     44161  2022-11-21        England          Iran         6.0   \n",
       "44161     44162  2022-11-21  United States         Wales         1.0   \n",
       "44162     44163  2022-11-22      Argentina  Saudi Arabia         1.0   \n",
       "44163     44165  2022-11-22        Denmark       Tunisia         0.0   \n",
       "\n",
       "       away_score      tournament       city            country  neutral  \n",
       "3077          0.0        Friendly      Kitwe  Northern Rhodesia    False  \n",
       "3078          0.0        Friendly      Cairo              Egypt    False  \n",
       "3079          0.0        Friendly     La Paz            Bolivia    False  \n",
       "3080          1.0        Friendly     Zagreb         Yugoslavia    False  \n",
       "3081          1.0        Friendly    Bologna              Italy    False  \n",
       "...           ...             ...        ...                ...      ...  \n",
       "44159         2.0  FIFA World Cup       Doha              Qatar     True  \n",
       "44160         2.0  FIFA World Cup  Al Rayyan              Qatar     True  \n",
       "44161         1.0  FIFA World Cup  Al Rayyan              Qatar     True  \n",
       "44162         2.0  FIFA World Cup     Lusail              Qatar     True  \n",
       "44163         0.0  FIFA World Cup  Al Rayyan              Qatar     True  \n",
       "\n",
       "[41087 rows x 10 columns]"
      ]
     },
     "execution_count": 54,
     "metadata": {},
     "output_type": "execute_result"
    }
   ],
   "source": [
    "matches_filtered_no_small_countries"
   ]
  },
  {
   "cell_type": "code",
   "execution_count": 65,
   "metadata": {},
   "outputs": [],
   "source": [
    "indexes_away = matches_filtered_no_small_countries[matches_filtered_no_small_countries['away_team'].isin(nonimportant_countries)].index"
   ]
  },
  {
   "cell_type": "code",
   "execution_count": 66,
   "metadata": {},
   "outputs": [
    {
     "data": {
      "text/plain": [
       "Int64Index([ 3511,  3565,  3977,  4044,  4049,  4609,  4613,  5408,  5409,\n",
       "             5416,\n",
       "            ...\n",
       "            41167, 41168, 41181, 41283, 41290, 41298, 41469, 41649, 43671,\n",
       "            43837],\n",
       "           dtype='int64', length=324)"
      ]
     },
     "execution_count": 66,
     "metadata": {},
     "output_type": "execute_result"
    }
   ],
   "source": [
    "indexes_away"
   ]
  },
  {
   "cell_type": "code",
   "execution_count": 68,
   "metadata": {},
   "outputs": [],
   "source": [
    "matches_filtered_no_small_countries_again = matches_filtered_no_small_countries.drop(indexes_away)"
   ]
  },
  {
   "cell_type": "code",
   "execution_count": 69,
   "metadata": {},
   "outputs": [
    {
     "name": "stdout",
     "output_type": "stream",
     "text": [
      "(41087, 10)\n",
      "(40732, 10)\n",
      "(40408, 10)\n"
     ]
    }
   ],
   "source": [
    "print(matches_filtered.shape)\n",
    "print(matches_filtered_no_small_countries.shape)\n",
    "print(matches_filtered_no_small_countries_again.shape)"
   ]
  },
  {
   "cell_type": "code",
   "execution_count": 70,
   "metadata": {},
   "outputs": [
    {
     "data": {
      "text/plain": [
       "Mexico             527\n",
       "Brazil             524\n",
       "South Korea        494\n",
       "United States      436\n",
       "Germany            430\n",
       "                  ... \n",
       "Padania             11\n",
       "Saare County         8\n",
       "Sápmi                5\n",
       "Iraqi Kurdistan      4\n",
       "Abkhazia             3\n",
       "Name: home_team, Length: 239, dtype: int64"
      ]
     },
     "execution_count": 70,
     "metadata": {},
     "output_type": "execute_result"
    }
   ],
   "source": [
    "matches_filtered_no_small_countries_again['home_team'].value_counts()"
   ]
  },
  {
   "cell_type": "code",
   "execution_count": 71,
   "metadata": {},
   "outputs": [
    {
     "data": {
      "text/plain": [
       "Zambia          441\n",
       "Uruguay         425\n",
       "Sweden          419\n",
       "Paraguay        409\n",
       "Russia          402\n",
       "               ... \n",
       "Padania           5\n",
       "Crimea            4\n",
       "Sápmi             3\n",
       "Catalonia         3\n",
       "Two Sicilies      2\n",
       "Name: away_team, Length: 241, dtype: int64"
      ]
     },
     "execution_count": 71,
     "metadata": {},
     "output_type": "execute_result"
    }
   ],
   "source": [
    "matches_filtered_no_small_countries_again['away_team'].value_counts()"
   ]
  },
  {
   "cell_type": "code",
   "execution_count": null,
   "metadata": {},
   "outputs": [],
   "source": []
  },
  {
   "cell_type": "code",
   "execution_count": 82,
   "metadata": {},
   "outputs": [
    {
     "data": {
      "text/html": [
       "<div>\n",
       "<style scoped>\n",
       "    .dataframe tbody tr th:only-of-type {\n",
       "        vertical-align: middle;\n",
       "    }\n",
       "\n",
       "    .dataframe tbody tr th {\n",
       "        vertical-align: top;\n",
       "    }\n",
       "\n",
       "    .dataframe thead th {\n",
       "        text-align: right;\n",
       "    }\n",
       "</style>\n",
       "<table border=\"1\" class=\"dataframe\">\n",
       "  <thead>\n",
       "    <tr style=\"text-align: right;\">\n",
       "      <th></th>\n",
       "      <th>country</th>\n",
       "      <th>confederation</th>\n",
       "      <th>population_share</th>\n",
       "      <th>tv_audience_share</th>\n",
       "      <th>gdp_weighted_share</th>\n",
       "    </tr>\n",
       "  </thead>\n",
       "  <tbody>\n",
       "    <tr>\n",
       "      <th>0</th>\n",
       "      <td>united states</td>\n",
       "      <td>concacaf</td>\n",
       "      <td>4.5</td>\n",
       "      <td>4.3</td>\n",
       "      <td>11.3</td>\n",
       "    </tr>\n",
       "    <tr>\n",
       "      <th>1</th>\n",
       "      <td>japan</td>\n",
       "      <td>afc</td>\n",
       "      <td>1.9</td>\n",
       "      <td>4.9</td>\n",
       "      <td>9.1</td>\n",
       "    </tr>\n",
       "    <tr>\n",
       "      <th>2</th>\n",
       "      <td>china</td>\n",
       "      <td>afc</td>\n",
       "      <td>19.5</td>\n",
       "      <td>14.8</td>\n",
       "      <td>7.3</td>\n",
       "    </tr>\n",
       "    <tr>\n",
       "      <th>3</th>\n",
       "      <td>germany</td>\n",
       "      <td>uefa</td>\n",
       "      <td>1.2</td>\n",
       "      <td>2.9</td>\n",
       "      <td>6.3</td>\n",
       "    </tr>\n",
       "    <tr>\n",
       "      <th>4</th>\n",
       "      <td>brazil</td>\n",
       "      <td>conmebol</td>\n",
       "      <td>2.8</td>\n",
       "      <td>7.1</td>\n",
       "      <td>5.4</td>\n",
       "    </tr>\n",
       "  </tbody>\n",
       "</table>\n",
       "</div>"
      ],
      "text/plain": [
       "         country confederation  population_share  tv_audience_share  \\\n",
       "0  united states      concacaf               4.5                4.3   \n",
       "1          japan           afc               1.9                4.9   \n",
       "2          china           afc              19.5               14.8   \n",
       "3        germany          uefa               1.2                2.9   \n",
       "4         brazil      conmebol               2.8                7.1   \n",
       "\n",
       "   gdp_weighted_share  \n",
       "0                11.3  \n",
       "1                 9.1  \n",
       "2                 7.3  \n",
       "3                 6.3  \n",
       "4                 5.4  "
      ]
     },
     "execution_count": 82,
     "metadata": {},
     "output_type": "execute_result"
    }
   ],
   "source": [
    "fifa_countries_official = pd.read_csv('./data/fifa_countries_confederations.csv')\n",
    "fifa_countries_official.head()"
   ]
  },
  {
   "cell_type": "code",
   "execution_count": 83,
   "metadata": {},
   "outputs": [
    {
     "data": {
      "text/plain": [
       "united states    1\n",
       "madagascar       1\n",
       "palestine        1\n",
       "kyrgyzstan       1\n",
       "mongolia         1\n",
       "                ..\n",
       "slovenia         1\n",
       "uruguay          1\n",
       "costa rica       1\n",
       "uzbekistan       1\n",
       "niue             1\n",
       "Name: country, Length: 191, dtype: int64"
      ]
     },
     "execution_count": 83,
     "metadata": {},
     "output_type": "execute_result"
    }
   ],
   "source": [
    "fifa_countries_official['country'].value_counts()"
   ]
  },
  {
   "cell_type": "code",
   "execution_count": 115,
   "metadata": {},
   "outputs": [],
   "source": [
    "fifa_countries_official['country'] = fifa_countries_official['country'].str.title()"
   ]
  },
  {
   "cell_type": "code",
   "execution_count": 116,
   "metadata": {},
   "outputs": [
    {
     "data": {
      "text/plain": [
       "United States    1\n",
       "Madagascar       1\n",
       "Palestine        1\n",
       "Kyrgyzstan       1\n",
       "Mongolia         1\n",
       "                ..\n",
       "Slovenia         1\n",
       "Uruguay          1\n",
       "Costa Rica       1\n",
       "Uzbekistan       1\n",
       "Niue             1\n",
       "Name: country, Length: 191, dtype: int64"
      ]
     },
     "execution_count": 116,
     "metadata": {},
     "output_type": "execute_result"
    }
   ],
   "source": [
    "fifa_countries_official['country'].value_counts()"
   ]
  },
  {
   "cell_type": "code",
   "execution_count": 117,
   "metadata": {},
   "outputs": [
    {
     "data": {
      "text/plain": [
       "True     36574\n",
       "False     7590\n",
       "Name: home_team, dtype: int64"
      ]
     },
     "execution_count": 117,
     "metadata": {},
     "output_type": "execute_result"
    }
   ],
   "source": [
    "matches['home_team'].isin(fifa_countries_official['country']).value_counts()"
   ]
  },
  {
   "cell_type": "code",
   "execution_count": 118,
   "metadata": {},
   "outputs": [
    {
     "data": {
      "text/plain": [
       "True     172\n",
       "False     19\n",
       "Name: country, dtype: int64"
      ]
     },
     "execution_count": 118,
     "metadata": {},
     "output_type": "execute_result"
    }
   ],
   "source": [
    "fifa_countries_official['country'].isin(matches['home_team']).value_counts()"
   ]
  },
  {
   "cell_type": "code",
   "execution_count": 119,
   "metadata": {},
   "outputs": [
    {
     "data": {
      "text/plain": [
       "{'Afghanistan',\n",
       " 'Albania',\n",
       " 'Algeria',\n",
       " 'American Samoa',\n",
       " 'Angola',\n",
       " 'Argentina',\n",
       " 'Armenia',\n",
       " 'Aruba',\n",
       " 'Australia',\n",
       " 'Austria',\n",
       " 'Azerbaijan',\n",
       " 'Bahamas',\n",
       " 'Bahrain',\n",
       " 'Bangladesh',\n",
       " 'Barbados',\n",
       " 'Belarus',\n",
       " 'Belgium',\n",
       " 'Benin',\n",
       " 'Bermuda',\n",
       " 'Bolivia',\n",
       " 'Botswana',\n",
       " 'Brazil',\n",
       " 'Brunei',\n",
       " 'Bulgaria',\n",
       " 'Burkina Faso',\n",
       " 'Burundi',\n",
       " 'Cambodia',\n",
       " 'Cameroon',\n",
       " 'Canada',\n",
       " 'Cape Verde',\n",
       " 'Cayman Islands',\n",
       " 'Central African Republic',\n",
       " 'Chad',\n",
       " 'Chile',\n",
       " 'Colombia',\n",
       " 'Cook Islands',\n",
       " 'Costa Rica',\n",
       " 'Croatia',\n",
       " 'Cuba',\n",
       " 'Cyprus',\n",
       " 'Czech Republic',\n",
       " 'Denmark',\n",
       " 'Dominica',\n",
       " 'Ecuador',\n",
       " 'Egypt',\n",
       " 'El Salvador',\n",
       " 'Equatorial Guinea',\n",
       " 'Eritrea',\n",
       " 'Estonia',\n",
       " 'Ethiopia',\n",
       " 'Fiji',\n",
       " 'Finland',\n",
       " 'France',\n",
       " 'Gabon',\n",
       " 'Gambia',\n",
       " 'Georgia',\n",
       " 'Germany',\n",
       " 'Ghana',\n",
       " 'Greece',\n",
       " 'Grenada',\n",
       " 'Guatemala',\n",
       " 'Guinea',\n",
       " 'Guinea-Bissau',\n",
       " 'Guyana',\n",
       " 'Haiti',\n",
       " 'Honduras',\n",
       " 'Hong Kong',\n",
       " 'Hungary',\n",
       " 'Iceland',\n",
       " 'India',\n",
       " 'Indonesia',\n",
       " 'Iran',\n",
       " 'Iraq',\n",
       " 'Israel',\n",
       " 'Italy',\n",
       " 'Ivory Coast',\n",
       " 'Jamaica',\n",
       " 'Japan',\n",
       " 'Jordan',\n",
       " 'Kazakhstan',\n",
       " 'Kenya',\n",
       " 'Kosovo',\n",
       " 'Kuwait',\n",
       " 'Kyrgyzstan',\n",
       " 'Laos',\n",
       " 'Latvia',\n",
       " 'Lebanon',\n",
       " 'Lesotho',\n",
       " 'Liberia',\n",
       " 'Libya',\n",
       " 'Lithuania',\n",
       " 'Macau',\n",
       " 'Madagascar',\n",
       " 'Malawi',\n",
       " 'Malaysia',\n",
       " 'Maldives',\n",
       " 'Mali',\n",
       " 'Malta',\n",
       " 'Mauritania',\n",
       " 'Mauritius',\n",
       " 'Mexico',\n",
       " 'Moldova',\n",
       " 'Mongolia',\n",
       " 'Montenegro',\n",
       " 'Morocco',\n",
       " 'Mozambique',\n",
       " 'Myanmar',\n",
       " 'Namibia',\n",
       " 'Nepal',\n",
       " 'Netherlands',\n",
       " 'New Zealand',\n",
       " 'Nicaragua',\n",
       " 'Niger',\n",
       " 'Nigeria',\n",
       " 'Niue',\n",
       " 'North Korea',\n",
       " 'Norway',\n",
       " 'Oman',\n",
       " 'Pakistan',\n",
       " 'Palau',\n",
       " 'Palestine',\n",
       " 'Panama',\n",
       " 'Papua New Guinea',\n",
       " 'Paraguay',\n",
       " 'Peru',\n",
       " 'Philippines',\n",
       " 'Poland',\n",
       " 'Portugal',\n",
       " 'Qatar',\n",
       " 'Romania',\n",
       " 'Russia',\n",
       " 'Rwanda',\n",
       " 'Samoa',\n",
       " 'Saudi Arabia',\n",
       " 'Senegal',\n",
       " 'Serbia',\n",
       " 'Seychelles',\n",
       " 'Sierra Leone',\n",
       " 'Singapore',\n",
       " 'Slovakia',\n",
       " 'Slovenia',\n",
       " 'Solomon Islands',\n",
       " 'Somalia',\n",
       " 'South Africa',\n",
       " 'South Korea',\n",
       " 'Spain',\n",
       " 'Sri Lanka',\n",
       " 'Sudan',\n",
       " 'Suriname',\n",
       " 'Sweden',\n",
       " 'Switzerland',\n",
       " 'Syria',\n",
       " 'Taiwan',\n",
       " 'Tajikistan',\n",
       " 'Tanzania',\n",
       " 'Thailand',\n",
       " 'Togo',\n",
       " 'Tonga',\n",
       " 'Tunisia',\n",
       " 'Turkey',\n",
       " 'Turkmenistan',\n",
       " 'Uganda',\n",
       " 'Ukraine',\n",
       " 'United States',\n",
       " 'Uruguay',\n",
       " 'Uzbekistan',\n",
       " 'Vanuatu',\n",
       " 'Venezuela',\n",
       " 'Vietnam',\n",
       " 'Yemen',\n",
       " 'Zambia',\n",
       " 'Zimbabwe'}"
      ]
     },
     "execution_count": 119,
     "metadata": {},
     "output_type": "execute_result"
    }
   ],
   "source": [
    "set(matches['home_team']).intersection(set(fifa_countries_official['country']))"
   ]
  },
  {
   "cell_type": "code",
   "execution_count": 120,
   "metadata": {},
   "outputs": [],
   "source": [
    "intersection = set(matches['home_team']).intersection(set(fifa_countries_official['country']))"
   ]
  },
  {
   "cell_type": "code",
   "execution_count": 121,
   "metadata": {},
   "outputs": [],
   "source": [
    "countries_list_matches = matches_filtered['home_team'].value_counts().index"
   ]
  },
  {
   "cell_type": "code",
   "execution_count": 122,
   "metadata": {},
   "outputs": [
    {
     "data": {
      "text/plain": [
       "Index(['Mexico', 'Brazil', 'South Korea', 'United States', 'Germany',\n",
       "       'Argentina', 'England', 'France', 'Egypt', 'Malaysia',\n",
       "       ...\n",
       "       'Brunei Darussalam', 'Western Australia', 'Romani people', 'Kabylia',\n",
       "       'Sark', 'Chameria', 'Saint Helena', 'Madrid',\n",
       "       'Saint Pierre and Miquelon', 'Aymara'],\n",
       "      dtype='object', length=309)"
      ]
     },
     "execution_count": 122,
     "metadata": {},
     "output_type": "execute_result"
    }
   ],
   "source": [
    "countries_list_matches"
   ]
  },
  {
   "cell_type": "code",
   "execution_count": 123,
   "metadata": {},
   "outputs": [
    {
     "data": {
      "text/plain": [
       "309"
      ]
     },
     "execution_count": 123,
     "metadata": {},
     "output_type": "execute_result"
    }
   ],
   "source": [
    "countries_list_matches_list = []\n",
    "for value in countries_list_matches:\n",
    "    countries_list_matches_list.append(value)\n",
    "len(countries_list_matches_list)"
   ]
  },
  {
   "cell_type": "code",
   "execution_count": 124,
   "metadata": {},
   "outputs": [
    {
     "data": {
      "text/plain": [
       "list"
      ]
     },
     "execution_count": 124,
     "metadata": {},
     "output_type": "execute_result"
    }
   ],
   "source": [
    "type(countries_list_matches_list)"
   ]
  },
  {
   "cell_type": "code",
   "execution_count": 125,
   "metadata": {},
   "outputs": [],
   "source": [
    "countries_list_fifa = fifa_countries_official['country'].value_counts().index"
   ]
  },
  {
   "cell_type": "code",
   "execution_count": 126,
   "metadata": {},
   "outputs": [
    {
     "data": {
      "text/plain": [
       "191"
      ]
     },
     "execution_count": 126,
     "metadata": {},
     "output_type": "execute_result"
    }
   ],
   "source": [
    "countries_list_fifa_list = []\n",
    "for value in countries_list_fifa:\n",
    "    countries_list_fifa_list.append(value)\n",
    "len(countries_list_fifa_list)"
   ]
  },
  {
   "cell_type": "code",
   "execution_count": 127,
   "metadata": {},
   "outputs": [
    {
     "data": {
      "text/plain": [
       "list"
      ]
     },
     "execution_count": 127,
     "metadata": {},
     "output_type": "execute_result"
    }
   ],
   "source": [
    "type(countries_list_fifa_list)"
   ]
  },
  {
   "cell_type": "code",
   "execution_count": 129,
   "metadata": {},
   "outputs": [],
   "source": [
    "s = set(countries_list_fifa_list)"
   ]
  },
  {
   "cell_type": "code",
   "execution_count": 130,
   "metadata": {},
   "outputs": [],
   "source": [
    "temp3 = [x for x in countries_list_matches_list if x not in s]"
   ]
  },
  {
   "cell_type": "code",
   "execution_count": 131,
   "metadata": {},
   "outputs": [
    {
     "data": {
      "text/plain": [
       "137"
      ]
     },
     "execution_count": 131,
     "metadata": {},
     "output_type": "execute_result"
    }
   ],
   "source": [
    "len(temp3)"
   ]
  },
  {
   "cell_type": "code",
   "execution_count": 132,
   "metadata": {},
   "outputs": [
    {
     "data": {
      "text/plain": [
       "['England',\n",
       " 'China PR',\n",
       " 'United Arab Emirates',\n",
       " 'Republic of Ireland',\n",
       " 'Scotland',\n",
       " 'Trinidad and Tobago',\n",
       " 'Wales',\n",
       " 'Northern Ireland',\n",
       " 'Luxembourg',\n",
       " 'DR Congo',\n",
       " 'Congo',\n",
       " 'Czechoslovakia',\n",
       " 'Martinique',\n",
       " 'Yugoslavia',\n",
       " 'New Caledonia',\n",
       " 'North Macedonia',\n",
       " 'German DR',\n",
       " 'Curaçao',\n",
       " 'Faroe Islands',\n",
       " 'Guadeloupe',\n",
       " 'Bosnia and Herzegovina',\n",
       " 'Eswatini',\n",
       " 'Antigua and Barbuda',\n",
       " 'Liechtenstein',\n",
       " 'Saint Kitts and Nevis',\n",
       " 'Andorra',\n",
       " 'San Marino',\n",
       " 'Saint Lucia',\n",
       " 'Tahiti',\n",
       " 'Dominican Republic',\n",
       " 'French Guiana',\n",
       " 'Gibraltar',\n",
       " 'Saint Vincent and the Grenadines',\n",
       " 'Zanzibar',\n",
       " 'Puerto Rico',\n",
       " 'Vietnam Republic',\n",
       " 'Jersey',\n",
       " 'Guam',\n",
       " 'Djibouti',\n",
       " 'British Virgin Islands',\n",
       " 'Réunion',\n",
       " 'Belize',\n",
       " 'Guernsey',\n",
       " 'Comoros',\n",
       " 'Greenland',\n",
       " 'Basque Country',\n",
       " 'Ynys Môn',\n",
       " 'Padania',\n",
       " 'Bhutan',\n",
       " 'Åland Islands',\n",
       " 'South Sudan',\n",
       " 'United States Virgin Islands',\n",
       " 'Isle of Wight',\n",
       " 'Catalonia',\n",
       " 'São Tomé and Príncipe',\n",
       " 'Anguilla',\n",
       " 'Shetland',\n",
       " 'Northern Cyprus',\n",
       " 'Isle of Man',\n",
       " 'Gotland',\n",
       " 'Saint Martin',\n",
       " 'Montserrat',\n",
       " 'Sint Maarten',\n",
       " 'Sápmi',\n",
       " 'Abkhazia',\n",
       " 'Timor-Leste',\n",
       " 'Saare County',\n",
       " 'Turks and Caicos Islands',\n",
       " 'Iraqi Kurdistan',\n",
       " 'Frøya',\n",
       " 'Orkney',\n",
       " 'Tuvalu',\n",
       " 'Andalusia',\n",
       " 'Rhodes',\n",
       " 'Falkland Islands',\n",
       " 'Barawa',\n",
       " 'Menorca',\n",
       " 'Western Isles',\n",
       " 'Northern Mariana Islands',\n",
       " 'Bonaire',\n",
       " 'Székely Land',\n",
       " 'Occitania',\n",
       " 'Kernow',\n",
       " 'Ellan Vannin',\n",
       " 'Corsica',\n",
       " 'United Koreans in Japan',\n",
       " 'Hitra',\n",
       " 'Provence',\n",
       " 'Artsakh',\n",
       " 'South Ossetia',\n",
       " 'Tamil Eelam',\n",
       " 'Alderney',\n",
       " 'Mayotte',\n",
       " 'Saarland',\n",
       " 'Galicia',\n",
       " 'Chagos Islands',\n",
       " 'Brittany',\n",
       " 'Silesia',\n",
       " 'Yorkshire',\n",
       " 'Western Armenia',\n",
       " 'North Vietnam',\n",
       " 'Kárpátalja',\n",
       " 'Kiribati',\n",
       " 'County of Nice',\n",
       " 'Panjab',\n",
       " 'Darfur',\n",
       " 'Canary Islands',\n",
       " 'Tibet',\n",
       " 'Monaco',\n",
       " 'Republic of St. Pauli',\n",
       " 'Găgăuzia',\n",
       " 'Wallis Islands and Futuna',\n",
       " 'Western Sahara',\n",
       " 'Arameans Suryoye',\n",
       " 'Gozo',\n",
       " 'Yoruba Nation',\n",
       " 'Biafra',\n",
       " 'Parishes of Jersey',\n",
       " 'Cascadia',\n",
       " 'Matabeleland',\n",
       " 'Mapuche',\n",
       " 'Yemen DPR',\n",
       " 'Raetia',\n",
       " 'Somaliland',\n",
       " 'Micronesia',\n",
       " 'Felvidék',\n",
       " 'Vatican City',\n",
       " 'Brunei Darussalam',\n",
       " 'Western Australia',\n",
       " 'Romani people',\n",
       " 'Kabylia',\n",
       " 'Sark',\n",
       " 'Chameria',\n",
       " 'Saint Helena',\n",
       " 'Madrid',\n",
       " 'Saint Pierre and Miquelon',\n",
       " 'Aymara']"
      ]
     },
     "execution_count": 132,
     "metadata": {},
     "output_type": "execute_result"
    }
   ],
   "source": [
    "temp3"
   ]
  },
  {
   "cell_type": "code",
   "execution_count": 114,
   "metadata": {},
   "outputs": [
    {
     "data": {
      "text/plain": [
       "['United states',\n",
       " 'Madagascar',\n",
       " 'Palestine',\n",
       " 'Kyrgyzstan',\n",
       " 'Mongolia',\n",
       " 'Montenegro',\n",
       " 'Tanzania',\n",
       " 'Georgia',\n",
       " 'Suriname',\n",
       " 'Sudan',\n",
       " 'Gabon',\n",
       " 'Tunisia',\n",
       " 'Uganda',\n",
       " 'Ethiopia',\n",
       " 'Zimbabwe',\n",
       " 'Namibia',\n",
       " 'Bahamas',\n",
       " 'Papua new guinea',\n",
       " 'Guyana',\n",
       " 'Turks & caicos',\n",
       " 'Congo dr',\n",
       " 'Burkina faso',\n",
       " 'Libya',\n",
       " 'Iceland',\n",
       " 'Haiti',\n",
       " 'Senegal',\n",
       " 'Trinidad &tobago',\n",
       " 'Philippines',\n",
       " 'Bolivia',\n",
       " 'Laos',\n",
       " 'Armenia',\n",
       " 'Nicaragua',\n",
       " 'Afghanistan',\n",
       " 'Kosovo',\n",
       " 'Cameroon',\n",
       " 'Jamaica',\n",
       " 'Tajikistan',\n",
       " 'Sri lanka',\n",
       " 'Myanmar',\n",
       " 'Moldova',\n",
       " 'Malta',\n",
       " 'Bangladesh',\n",
       " 'Zambia',\n",
       " 'Morocco',\n",
       " 'North korea',\n",
       " 'Botswana',\n",
       " 'Guinea',\n",
       " 'Fiji',\n",
       " 'Macedonia',\n",
       " 'Gambia',\n",
       " 'Malawi',\n",
       " 'Sierra leone',\n",
       " 'Mauritania',\n",
       " 'Solomon islands',\n",
       " 'Dominica',\n",
       " 'Timor',\n",
       " 'St. kitts',\n",
       " 'Rwanda',\n",
       " 'Somalia',\n",
       " 'Samoa',\n",
       " 'Lesotho',\n",
       " 'Guinea-bissau',\n",
       " 'Central african republic',\n",
       " 'Vanuatu',\n",
       " 'American samoa',\n",
       " 'Cook islands',\n",
       " 'Tonga',\n",
       " 'Liberia',\n",
       " 'Palau',\n",
       " 'Nauru',\n",
       " 'St. vincent',\n",
       " 'Grenada',\n",
       " 'Barbados',\n",
       " 'Cayman islands',\n",
       " 'Mali',\n",
       " 'Bermuda',\n",
       " 'St. maarten',\n",
       " 'Equatorial guinea',\n",
       " 'Mozambique',\n",
       " 'Seychelles',\n",
       " 'Cape verde',\n",
       " 'Benin',\n",
       " 'Swaziland',\n",
       " 'Aruba',\n",
       " 'Eritrea',\n",
       " 'Maldives',\n",
       " 'Niger',\n",
       " 'Curacao',\n",
       " 'St. lucia',\n",
       " 'Togo',\n",
       " 'Burundi',\n",
       " 'Congo, rep.',\n",
       " 'Antigua & barbuda',\n",
       " 'Chad',\n",
       " 'Kenya',\n",
       " 'Mauritius',\n",
       " 'Japan',\n",
       " 'Australia',\n",
       " 'Nigeria',\n",
       " 'Belgium',\n",
       " 'Sweden',\n",
       " 'Vietnam',\n",
       " 'Iran',\n",
       " 'Chile',\n",
       " 'Romania',\n",
       " 'Austria',\n",
       " 'Singapore',\n",
       " 'Greece',\n",
       " 'Malaysia',\n",
       " 'Portugal',\n",
       " 'India',\n",
       " 'Czech republic',\n",
       " 'Egypt',\n",
       " 'Denmark',\n",
       " 'Norway',\n",
       " 'Peru',\n",
       " 'Ukraine',\n",
       " 'Iraq',\n",
       " 'Switzerland',\n",
       " 'South africa',\n",
       " 'Kazakhstan',\n",
       " 'Indonesia',\n",
       " 'China',\n",
       " 'Germany',\n",
       " 'Brazil',\n",
       " 'United kingdom',\n",
       " 'Italy',\n",
       " 'France',\n",
       " 'Russia',\n",
       " 'Spain',\n",
       " 'South korea',\n",
       " 'Mexico',\n",
       " 'Venezuela',\n",
       " 'Turkey',\n",
       " 'Thailand',\n",
       " 'Argentina',\n",
       " 'Netherlands',\n",
       " 'Poland',\n",
       " 'Saudi arabia',\n",
       " 'Taiwan',\n",
       " 'Canada',\n",
       " 'Colombia',\n",
       " 'Hungary',\n",
       " 'Finland',\n",
       " 'Ghana',\n",
       " 'Lebanon',\n",
       " 'Pakistan',\n",
       " 'Guatemala',\n",
       " 'Paraguay',\n",
       " 'Panama',\n",
       " 'Bosnia-herzegovina',\n",
       " 'Cambodia',\n",
       " 'Ivory coast',\n",
       " 'Macau',\n",
       " 'Latvia',\n",
       " 'Jordan',\n",
       " 'El salvador',\n",
       " 'Honduras',\n",
       " 'Brunei',\n",
       " 'Albania',\n",
       " 'Turkmenistan',\n",
       " 'Angola',\n",
       " 'Estonia',\n",
       " 'Bahrain',\n",
       " 'Nepal',\n",
       " 'Cyprus',\n",
       " 'Syria',\n",
       " 'Israel',\n",
       " 'Ireland',\n",
       " 'Hong kong',\n",
       " 'Algeria',\n",
       " 'Cuba',\n",
       " 'Ecuador',\n",
       " 'Slovakia',\n",
       " 'Qatar',\n",
       " 'Kuwait',\n",
       " 'Bulgaria',\n",
       " 'Serbia',\n",
       " 'Belarus',\n",
       " 'Croatia',\n",
       " 'Yemen',\n",
       " 'Oman',\n",
       " 'Dominica republic',\n",
       " 'Azerbaijan',\n",
       " 'New zealand',\n",
       " 'Lithuania',\n",
       " 'Slovenia',\n",
       " 'Uruguay',\n",
       " 'Costa rica',\n",
       " 'Uzbekistan',\n",
       " 'Niue']"
      ]
     },
     "execution_count": 114,
     "metadata": {},
     "output_type": "execute_result"
    }
   ],
   "source": [
    "countries_list_fifa_list"
   ]
  },
  {
   "cell_type": "code",
   "execution_count": null,
   "metadata": {},
   "outputs": [],
   "source": []
  }
 ],
 "metadata": {
  "kernelspec": {
   "display_name": "Python 3.10.7 ('venv': venv)",
   "language": "python",
   "name": "python3"
  },
  "language_info": {
   "codemirror_mode": {
    "name": "ipython",
    "version": 3
   },
   "file_extension": ".py",
   "mimetype": "text/x-python",
   "name": "python",
   "nbconvert_exporter": "python",
   "pygments_lexer": "ipython3",
   "version": "3.10.7"
  },
  "orig_nbformat": 4,
  "vscode": {
   "interpreter": {
    "hash": "64716dcc7f862df0293299df7c5f58d1d6e8be6f933b2ddf3dad2c8d17372c1c"
   }
  }
 },
 "nbformat": 4,
 "nbformat_minor": 2
}
